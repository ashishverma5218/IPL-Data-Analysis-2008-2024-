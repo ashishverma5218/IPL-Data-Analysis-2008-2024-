{
 "cells": [
  {
   "cell_type": "markdown",
   "id": "d8525b07",
   "metadata": {},
   "source": [
    "# Project:- IPL Data Analysis(2008-2024)\n",
    "\n",
    "# Description:-  \n",
    "### The goal of this project is to analyze the Indian Premier League(IPL) and Deliveries dataset to uncover insights into various   aspects of the tournament.This includes examining player performances, team statistics, match outcomes, and delivery details to identify patterns, trends, and key factors that influence match results.\n",
    "\n",
    "# Libraries Used:- Numpy , Pandas , Matplotlib , Seaborn.\n",
    "\n",
    "# By- Ashish Verma\n",
    "\n",
    "# ________________________________________________________________"
   ]
  },
  {
   "cell_type": "markdown",
   "id": "4e73d608",
   "metadata": {},
   "source": [
    "# Import Libraries"
   ]
  },
  {
   "cell_type": "code",
   "execution_count": 1,
   "id": "1ba3c703",
   "metadata": {},
   "outputs": [],
   "source": [
    "import numpy as np\n",
    "import pandas as pd\n",
    "import seaborn as sns\n",
    "import matplotlib.pyplot as plt"
   ]
  },
  {
   "cell_type": "markdown",
   "id": "fb285db5",
   "metadata": {},
   "source": [
    "# IPL Datasets\n",
    "## Dataset Overview:  \n",
    "### 1.IPL Dataset: Contains information on matches, teams, venues, and seasons.\n",
    "### 2.Deliveries Dataset: Contains detailed delivery data, including ball-by-ball outcomes, bowler and batsman statistics, and match events.\n",
    "### 3.Batsman run Dataset: Contains runs of every batsman of each matches.\n",
    "### 4.Kohli ipl dataset: Contain virat kohli all matches data. "
   ]
  },
  {
   "cell_type": "code",
   "execution_count": 2,
   "id": "e26da95f",
   "metadata": {},
   "outputs": [],
   "source": [
    "import warnings\n",
    "warnings.filterwarnings('ignore')\n",
    "\n",
    "vk = pd.read_csv('kohli_ipl.csv',index_col='match_no',squeeze=True)\n",
    "ipl = pd.read_csv(\"ipl_matches.csv\")\n",
    "br = pd.read_csv(\"batsman_runs.csv\")\n",
    "d = pd.read_csv(\"deliveries.csv\")"
   ]
  },
  {
   "cell_type": "markdown",
   "id": "d14ba8c8",
   "metadata": {},
   "source": [
    "# 1. No of match Played by virat kohli"
   ]
  },
  {
   "cell_type": "code",
   "execution_count": 3,
   "id": "85cec30e",
   "metadata": {},
   "outputs": [
    {
     "data": {
      "text/plain": [
       "244"
      ]
     },
     "execution_count": 3,
     "metadata": {},
     "output_type": "execute_result"
    }
   ],
   "source": [
    "vk.count()"
   ]
  },
  {
   "cell_type": "markdown",
   "id": "95ed6d5e",
   "metadata": {},
   "source": [
    "# 2. No of  100's scored by kohli"
   ]
  },
  {
   "cell_type": "code",
   "execution_count": 4,
   "id": "54009ede",
   "metadata": {},
   "outputs": [
    {
     "name": "stdout",
     "output_type": "stream",
     "text": [
      "match_no\n",
      "120    100\n",
      "123    108\n",
      "126    109\n",
      "128    113\n",
      "164    100\n",
      "228    100\n",
      "229    101\n",
      "234    113\n",
      "Name: batsman_runs, dtype: int64\n",
      "8\n"
     ]
    }
   ],
   "source": [
    "print(vk[(vk >= 100)])\n",
    "print(vk[(vk >= 100)].size)"
   ]
  },
  {
   "cell_type": "markdown",
   "id": "eb0a1376",
   "metadata": {},
   "source": [
    "# 3. No of  50's scored by kohli"
   ]
  },
  {
   "cell_type": "code",
   "execution_count": 5,
   "id": "453bbe46",
   "metadata": {},
   "outputs": [
    {
     "data": {
      "text/plain": [
       "56"
      ]
     },
     "execution_count": 5,
     "metadata": {},
     "output_type": "execute_result"
    }
   ],
   "source": [
    "vk[(vk >= 50) & (vk <=99)].size"
   ]
  },
  {
   "cell_type": "markdown",
   "id": "0d7805bf",
   "metadata": {},
   "source": [
    "# 4. Highest IPL score by virat kohli"
   ]
  },
  {
   "cell_type": "code",
   "execution_count": 6,
   "id": "a5cfbcee",
   "metadata": {},
   "outputs": [
    {
     "data": {
      "text/plain": [
       "113"
      ]
     },
     "execution_count": 6,
     "metadata": {},
     "output_type": "execute_result"
    }
   ],
   "source": [
    "vk.max()"
   ]
  },
  {
   "cell_type": "markdown",
   "id": "71195414",
   "metadata": {},
   "source": [
    "# 5. Find number of ducks by virat kohli"
   ]
  },
  {
   "cell_type": "code",
   "execution_count": 7,
   "id": "00726e87",
   "metadata": {},
   "outputs": [
    {
     "data": {
      "text/plain": [
       "10"
      ]
     },
     "execution_count": 7,
     "metadata": {},
     "output_type": "execute_result"
    }
   ],
   "source": [
    "vk[vk == 0].size"
   ]
  },
  {
   "cell_type": "markdown",
   "id": "cf09b5e4",
   "metadata": {},
   "source": [
    "#  6. Virat kohli runs between 51 - 99."
   ]
  },
  {
   "cell_type": "code",
   "execution_count": 8,
   "id": "7bf0c44c",
   "metadata": {},
   "outputs": [
    {
     "data": {
      "text/plain": [
       "53"
      ]
     },
     "execution_count": 8,
     "metadata": {},
     "output_type": "execute_result"
    }
   ],
   "source": [
    "vk[vk.between(51,99)].size"
   ]
  },
  {
   "cell_type": "markdown",
   "id": "ca61998b",
   "metadata": {},
   "source": [
    "# 7. How many time virat kohli out on 99."
   ]
  },
  {
   "cell_type": "code",
   "execution_count": 9,
   "id": "e7e77dfd",
   "metadata": {},
   "outputs": [
    {
     "data": {
      "text/plain": [
       "1"
      ]
     },
     "execution_count": 9,
     "metadata": {},
     "output_type": "execute_result"
    }
   ],
   "source": [
    "vk[(vk == 99)].size"
   ]
  },
  {
   "cell_type": "markdown",
   "id": "c23ec6a8",
   "metadata": {},
   "source": [
    "#  8. Find MS Dhoni record against all teams"
   ]
  },
  {
   "cell_type": "code",
   "execution_count": 10,
   "id": "c8064131",
   "metadata": {},
   "outputs": [
    {
     "data": {
      "text/html": [
       "<div>\n",
       "<style scoped>\n",
       "    .dataframe tbody tr th:only-of-type {\n",
       "        vertical-align: middle;\n",
       "    }\n",
       "\n",
       "    .dataframe tbody tr th {\n",
       "        vertical-align: top;\n",
       "    }\n",
       "\n",
       "    .dataframe thead th {\n",
       "        text-align: right;\n",
       "    }\n",
       "</style>\n",
       "<table border=\"1\" class=\"dataframe\">\n",
       "  <thead>\n",
       "    <tr style=\"text-align: right;\">\n",
       "      <th></th>\n",
       "      <th>bowling_team</th>\n",
       "      <th>batsman_runs</th>\n",
       "    </tr>\n",
       "  </thead>\n",
       "  <tbody>\n",
       "    <tr>\n",
       "      <th>0</th>\n",
       "      <td>Royal Challengers Bangalore</td>\n",
       "      <td>839</td>\n",
       "    </tr>\n",
       "    <tr>\n",
       "      <th>1</th>\n",
       "      <td>Mumbai Indians</td>\n",
       "      <td>768</td>\n",
       "    </tr>\n",
       "    <tr>\n",
       "      <th>2</th>\n",
       "      <td>Kings XI Punjab</td>\n",
       "      <td>595</td>\n",
       "    </tr>\n",
       "    <tr>\n",
       "      <th>3</th>\n",
       "      <td>Kolkata Knight Riders</td>\n",
       "      <td>556</td>\n",
       "    </tr>\n",
       "    <tr>\n",
       "      <th>4</th>\n",
       "      <td>Rajasthan Royals</td>\n",
       "      <td>553</td>\n",
       "    </tr>\n",
       "    <tr>\n",
       "      <th>5</th>\n",
       "      <td>Sunrisers Hyderabad</td>\n",
       "      <td>494</td>\n",
       "    </tr>\n",
       "    <tr>\n",
       "      <th>6</th>\n",
       "      <td>Delhi Daredevils</td>\n",
       "      <td>487</td>\n",
       "    </tr>\n",
       "    <tr>\n",
       "      <th>7</th>\n",
       "      <td>Deccan Chargers</td>\n",
       "      <td>281</td>\n",
       "    </tr>\n",
       "    <tr>\n",
       "      <th>8</th>\n",
       "      <td>Delhi Capitals</td>\n",
       "      <td>222</td>\n",
       "    </tr>\n",
       "    <tr>\n",
       "      <th>9</th>\n",
       "      <td>Pune Warriors</td>\n",
       "      <td>135</td>\n",
       "    </tr>\n",
       "    <tr>\n",
       "      <th>10</th>\n",
       "      <td>Gujarat Lions</td>\n",
       "      <td>83</td>\n",
       "    </tr>\n",
       "    <tr>\n",
       "      <th>11</th>\n",
       "      <td>Punjab Kings</td>\n",
       "      <td>74</td>\n",
       "    </tr>\n",
       "    <tr>\n",
       "      <th>12</th>\n",
       "      <td>Lucknow Super Giants</td>\n",
       "      <td>60</td>\n",
       "    </tr>\n",
       "    <tr>\n",
       "      <th>13</th>\n",
       "      <td>Gujarat Titans</td>\n",
       "      <td>48</td>\n",
       "    </tr>\n",
       "    <tr>\n",
       "      <th>14</th>\n",
       "      <td>Royal Challengers Bengaluru</td>\n",
       "      <td>25</td>\n",
       "    </tr>\n",
       "    <tr>\n",
       "      <th>15</th>\n",
       "      <td>Kochi Tuskers Kerala</td>\n",
       "      <td>23</td>\n",
       "    </tr>\n",
       "  </tbody>\n",
       "</table>\n",
       "</div>"
      ],
      "text/plain": [
       "                   bowling_team  batsman_runs\n",
       "0   Royal Challengers Bangalore           839\n",
       "1                Mumbai Indians           768\n",
       "2               Kings XI Punjab           595\n",
       "3         Kolkata Knight Riders           556\n",
       "4              Rajasthan Royals           553\n",
       "5           Sunrisers Hyderabad           494\n",
       "6              Delhi Daredevils           487\n",
       "7               Deccan Chargers           281\n",
       "8                Delhi Capitals           222\n",
       "9                 Pune Warriors           135\n",
       "10                Gujarat Lions            83\n",
       "11                 Punjab Kings            74\n",
       "12         Lucknow Super Giants            60\n",
       "13               Gujarat Titans            48\n",
       "14  Royal Challengers Bengaluru            25\n",
       "15         Kochi Tuskers Kerala            23"
      ]
     },
     "execution_count": 10,
     "metadata": {},
     "output_type": "execute_result"
    }
   ],
   "source": [
    "tf1 = d[d['batter'] == 'MS Dhoni']\n",
    "tf1.groupby('bowling_team')['batsman_runs'].sum().sort_values(ascending=False).reset_index()"
   ]
  },
  {
   "cell_type": "markdown",
   "id": "d2e8a2a8",
   "metadata": {},
   "source": [
    "# 9. How many super over happen till 2024"
   ]
  },
  {
   "cell_type": "code",
   "execution_count": 11,
   "id": "00d7f2a8",
   "metadata": {},
   "outputs": [
    {
     "data": {
      "text/plain": [
       "14"
      ]
     },
     "execution_count": 11,
     "metadata": {},
     "output_type": "execute_result"
    }
   ],
   "source": [
    "ipl[ipl['super_over'] == 'Y']['super_over'].shape[0]"
   ]
  },
  {
   "cell_type": "markdown",
   "id": "8a82552d",
   "metadata": {},
   "source": [
    "# 10. How many matches has csk won in kolkata"
   ]
  },
  {
   "cell_type": "code",
   "execution_count": 12,
   "id": "fe3d69fb",
   "metadata": {},
   "outputs": [
    {
     "data": {
      "text/plain": [
       "6"
      ]
     },
     "execution_count": 12,
     "metadata": {},
     "output_type": "execute_result"
    }
   ],
   "source": [
    "m = ipl[ipl['city'] == 'Kolkata']\n",
    "m[m['winner'] == 'Chennai Super Kings']['winner'].size"
   ]
  },
  {
   "cell_type": "markdown",
   "id": "07a05b5d",
   "metadata": {},
   "source": [
    "# 11. Which player won player of the match how many times"
   ]
  },
  {
   "cell_type": "code",
   "execution_count": 13,
   "id": "a2f6a608",
   "metadata": {},
   "outputs": [
    {
     "data": {
      "text/plain": [
       "AB de Villiers    25\n",
       "CH Gayle          22\n",
       "RG Sharma         19\n",
       "DA Warner         18\n",
       "V Kohli           18\n",
       "MS Dhoni          17\n",
       "SR Watson         16\n",
       "YK Pathan         16\n",
       "RA Jadeja         16\n",
       "AD Russell        15\n",
       "Name: player_of_match, dtype: int64"
      ]
     },
     "execution_count": 13,
     "metadata": {},
     "output_type": "execute_result"
    }
   ],
   "source": [
    "ipl['player_of_match'].value_counts().head(10)"
   ]
  },
  {
   "cell_type": "markdown",
   "id": "00e092a9",
   "metadata": {},
   "source": [
    "# 12. Find which player has won most player of the match -> in finals and qualifiers"
   ]
  },
  {
   "cell_type": "code",
   "execution_count": 14,
   "id": "674d6ad8",
   "metadata": {},
   "outputs": [
    {
     "data": {
      "text/plain": [
       "SK Raina             3\n",
       "F du Plessis         3\n",
       "KA Pollard           3\n",
       "SR Watson            2\n",
       "JJ Bumrah            2\n",
       "M Vijay              2\n",
       "AB de Villiers       2\n",
       "RD Gaikwad           2\n",
       "MA Starc             2\n",
       "A Kumble             2\n",
       "MK Pandey            2\n",
       "YK Pathan            2\n",
       "RR Pant              1\n",
       "Rashid Khan          1\n",
       "KS Williamson        1\n",
       "MP Stoinis           1\n",
       "TA Boult             1\n",
       "SA Yadav             1\n",
       "JC Buttler           1\n",
       "SP Narine            1\n",
       "VR Iyer              1\n",
       "DA Miller            1\n",
       "RM Patidar           1\n",
       "HH Pandya            1\n",
       "Akash Madhwal        1\n",
       "Shubman Gill         1\n",
       "DP Conway            1\n",
       "R Ashwin             1\n",
       "AD Russell           1\n",
       "Washington Sundar    1\n",
       "KH Pandya            1\n",
       "Harbhajan Singh      1\n",
       "AC Gilchrist         1\n",
       "DE Bollinger         1\n",
       "MM Patel             1\n",
       "CH Gayle             1\n",
       "MS Dhoni             1\n",
       "MS Bisla             1\n",
       "MEK Hussey           1\n",
       "BJ Hodge             1\n",
       "UT Yadav             1\n",
       "KV Sharma            1\n",
       "V Sehwag             1\n",
       "A Nehra              1\n",
       "RG Sharma            1\n",
       "MC Henriques         1\n",
       "DA Warner            1\n",
       "BCJ Cutting          1\n",
       "M Ntini              1\n",
       "NM Coulter-Nile      1\n",
       "Shahbaz Ahmed        1\n",
       "Name: player_of_match, dtype: int64"
      ]
     },
     "execution_count": 14,
     "metadata": {},
     "output_type": "execute_result"
    }
   ],
   "source": [
    "ipl[ipl['match_type'] != 'League']['player_of_match'].value_counts()"
   ]
  },
  {
   "cell_type": "markdown",
   "id": "f5f45441",
   "metadata": {},
   "source": [
    "# 13. How many matches each team has played"
   ]
  },
  {
   "cell_type": "code",
   "execution_count": 15,
   "id": "a096185b",
   "metadata": {},
   "outputs": [
    {
     "data": {
      "text/plain": [
       "Mumbai Indians                 261\n",
       "Kolkata Knight Riders          251\n",
       "Royal Challengers Bangalore    240\n",
       "Chennai Super Kings            238\n",
       "Rajasthan Royals               221\n",
       "Kings XI Punjab                190\n",
       "Sunrisers Hyderabad            182\n",
       "Delhi Daredevils               161\n",
       "Delhi Capitals                  91\n",
       "Deccan Chargers                 75\n",
       "Punjab Kings                    56\n",
       "Pune Warriors                   46\n",
       "Gujarat Titans                  45\n",
       "Lucknow Super Giants            44\n",
       "Gujarat Lions                   30\n",
       "Rising Pune Supergiant          16\n",
       "Royal Challengers Bengaluru     15\n",
       "Kochi Tuskers Kerala            14\n",
       "Rising Pune Supergiants         14\n",
       "dtype: int64"
      ]
     },
     "execution_count": 15,
     "metadata": {},
     "output_type": "execute_result"
    }
   ],
   "source": [
    "(ipl['team1'].value_counts() + ipl['team2'].value_counts()).sort_values(ascending=False)"
   ]
  },
  {
   "cell_type": "markdown",
   "id": "4ea10e21",
   "metadata": {},
   "source": [
    "# 14. Number of matches won by each team."
   ]
  },
  {
   "cell_type": "code",
   "execution_count": 16,
   "id": "3066477c",
   "metadata": {},
   "outputs": [
    {
     "data": {
      "text/plain": [
       "Mumbai Indians                 144\n",
       "Chennai Super Kings            138\n",
       "Kolkata Knight Riders          131\n",
       "Royal Challengers Bangalore    116\n",
       "Rajasthan Royals               112\n",
       "Kings XI Punjab                 88\n",
       "Sunrisers Hyderabad             88\n",
       "Delhi Daredevils                67\n",
       "Delhi Capitals                  48\n",
       "Deccan Chargers                 29\n",
       "Gujarat Titans                  28\n",
       "Lucknow Super Giants            24\n",
       "Punjab Kings                    24\n",
       "Gujarat Lions                   13\n",
       "Pune Warriors                   12\n",
       "Rising Pune Supergiant          10\n",
       "Royal Challengers Bengaluru      7\n",
       "Kochi Tuskers Kerala             6\n",
       "Rising Pune Supergiants          5\n",
       "Name: winner, dtype: int64"
      ]
     },
     "execution_count": 16,
     "metadata": {},
     "output_type": "execute_result"
    }
   ],
   "source": [
    "ipl['winner'].value_counts()"
   ]
  },
  {
   "cell_type": "markdown",
   "id": "ccd08ecc",
   "metadata": {},
   "source": [
    "# 15. Find all the IPL final winners"
   ]
  },
  {
   "cell_type": "code",
   "execution_count": 17,
   "id": "78a4e284",
   "metadata": {},
   "outputs": [
    {
     "data": {
      "text/html": [
       "<div>\n",
       "<style scoped>\n",
       "    .dataframe tbody tr th:only-of-type {\n",
       "        vertical-align: middle;\n",
       "    }\n",
       "\n",
       "    .dataframe tbody tr th {\n",
       "        vertical-align: top;\n",
       "    }\n",
       "\n",
       "    .dataframe thead th {\n",
       "        text-align: right;\n",
       "    }\n",
       "</style>\n",
       "<table border=\"1\" class=\"dataframe\">\n",
       "  <thead>\n",
       "    <tr style=\"text-align: right;\">\n",
       "      <th></th>\n",
       "      <th>season</th>\n",
       "      <th>winner</th>\n",
       "    </tr>\n",
       "  </thead>\n",
       "  <tbody>\n",
       "    <tr>\n",
       "      <th>57</th>\n",
       "      <td>2007/08</td>\n",
       "      <td>Rajasthan Royals</td>\n",
       "    </tr>\n",
       "    <tr>\n",
       "      <th>114</th>\n",
       "      <td>2009</td>\n",
       "      <td>Deccan Chargers</td>\n",
       "    </tr>\n",
       "    <tr>\n",
       "      <th>174</th>\n",
       "      <td>2009/10</td>\n",
       "      <td>Chennai Super Kings</td>\n",
       "    </tr>\n",
       "    <tr>\n",
       "      <th>247</th>\n",
       "      <td>2011</td>\n",
       "      <td>Chennai Super Kings</td>\n",
       "    </tr>\n",
       "    <tr>\n",
       "      <th>321</th>\n",
       "      <td>2012</td>\n",
       "      <td>Kolkata Knight Riders</td>\n",
       "    </tr>\n",
       "    <tr>\n",
       "      <th>397</th>\n",
       "      <td>2013</td>\n",
       "      <td>Mumbai Indians</td>\n",
       "    </tr>\n",
       "    <tr>\n",
       "      <th>457</th>\n",
       "      <td>2014</td>\n",
       "      <td>Kolkata Knight Riders</td>\n",
       "    </tr>\n",
       "    <tr>\n",
       "      <th>516</th>\n",
       "      <td>2015</td>\n",
       "      <td>Mumbai Indians</td>\n",
       "    </tr>\n",
       "    <tr>\n",
       "      <th>576</th>\n",
       "      <td>2016</td>\n",
       "      <td>Sunrisers Hyderabad</td>\n",
       "    </tr>\n",
       "    <tr>\n",
       "      <th>635</th>\n",
       "      <td>2017</td>\n",
       "      <td>Mumbai Indians</td>\n",
       "    </tr>\n",
       "    <tr>\n",
       "      <th>695</th>\n",
       "      <td>2018</td>\n",
       "      <td>Chennai Super Kings</td>\n",
       "    </tr>\n",
       "    <tr>\n",
       "      <th>755</th>\n",
       "      <td>2019</td>\n",
       "      <td>Mumbai Indians</td>\n",
       "    </tr>\n",
       "    <tr>\n",
       "      <th>815</th>\n",
       "      <td>2020/21</td>\n",
       "      <td>Mumbai Indians</td>\n",
       "    </tr>\n",
       "    <tr>\n",
       "      <th>875</th>\n",
       "      <td>2021</td>\n",
       "      <td>Chennai Super Kings</td>\n",
       "    </tr>\n",
       "    <tr>\n",
       "      <th>949</th>\n",
       "      <td>2022</td>\n",
       "      <td>Gujarat Titans</td>\n",
       "    </tr>\n",
       "    <tr>\n",
       "      <th>1023</th>\n",
       "      <td>2023</td>\n",
       "      <td>Chennai Super Kings</td>\n",
       "    </tr>\n",
       "    <tr>\n",
       "      <th>1094</th>\n",
       "      <td>2024</td>\n",
       "      <td>Kolkata Knight Riders</td>\n",
       "    </tr>\n",
       "  </tbody>\n",
       "</table>\n",
       "</div>"
      ],
      "text/plain": [
       "       season                 winner\n",
       "57    2007/08       Rajasthan Royals\n",
       "114      2009        Deccan Chargers\n",
       "174   2009/10    Chennai Super Kings\n",
       "247      2011    Chennai Super Kings\n",
       "321      2012  Kolkata Knight Riders\n",
       "397      2013         Mumbai Indians\n",
       "457      2014  Kolkata Knight Riders\n",
       "516      2015         Mumbai Indians\n",
       "576      2016    Sunrisers Hyderabad\n",
       "635      2017         Mumbai Indians\n",
       "695      2018    Chennai Super Kings\n",
       "755      2019         Mumbai Indians\n",
       "815   2020/21         Mumbai Indians\n",
       "875      2021    Chennai Super Kings\n",
       "949      2022         Gujarat Titans\n",
       "1023     2023    Chennai Super Kings\n",
       "1094     2024  Kolkata Knight Riders"
      ]
     },
     "execution_count": 17,
     "metadata": {},
     "output_type": "execute_result"
    }
   ],
   "source": [
    "ipl[ipl['match_type'] == 'Final'][['season','winner']]"
   ]
  },
  {
   "cell_type": "markdown",
   "id": "84cc7490",
   "metadata": {},
   "source": [
    "# 16. Winning Team of every match"
   ]
  },
  {
   "cell_type": "code",
   "execution_count": 18,
   "id": "f741066e",
   "metadata": {},
   "outputs": [
    {
     "data": {
      "text/html": [
       "<div>\n",
       "<style scoped>\n",
       "    .dataframe tbody tr th:only-of-type {\n",
       "        vertical-align: middle;\n",
       "    }\n",
       "\n",
       "    .dataframe tbody tr th {\n",
       "        vertical-align: top;\n",
       "    }\n",
       "\n",
       "    .dataframe thead th {\n",
       "        text-align: right;\n",
       "    }\n",
       "</style>\n",
       "<table border=\"1\" class=\"dataframe\">\n",
       "  <thead>\n",
       "    <tr style=\"text-align: right;\">\n",
       "      <th></th>\n",
       "      <th>team1</th>\n",
       "      <th>team2</th>\n",
       "      <th>winner</th>\n",
       "    </tr>\n",
       "  </thead>\n",
       "  <tbody>\n",
       "    <tr>\n",
       "      <th>0</th>\n",
       "      <td>Royal Challengers Bangalore</td>\n",
       "      <td>Kolkata Knight Riders</td>\n",
       "      <td>Kolkata Knight Riders</td>\n",
       "    </tr>\n",
       "    <tr>\n",
       "      <th>1</th>\n",
       "      <td>Kings XI Punjab</td>\n",
       "      <td>Chennai Super Kings</td>\n",
       "      <td>Chennai Super Kings</td>\n",
       "    </tr>\n",
       "    <tr>\n",
       "      <th>2</th>\n",
       "      <td>Delhi Daredevils</td>\n",
       "      <td>Rajasthan Royals</td>\n",
       "      <td>Delhi Daredevils</td>\n",
       "    </tr>\n",
       "    <tr>\n",
       "      <th>3</th>\n",
       "      <td>Mumbai Indians</td>\n",
       "      <td>Royal Challengers Bangalore</td>\n",
       "      <td>Royal Challengers Bangalore</td>\n",
       "    </tr>\n",
       "    <tr>\n",
       "      <th>4</th>\n",
       "      <td>Kolkata Knight Riders</td>\n",
       "      <td>Deccan Chargers</td>\n",
       "      <td>Kolkata Knight Riders</td>\n",
       "    </tr>\n",
       "  </tbody>\n",
       "</table>\n",
       "</div>"
      ],
      "text/plain": [
       "                         team1                        team2  \\\n",
       "0  Royal Challengers Bangalore        Kolkata Knight Riders   \n",
       "1              Kings XI Punjab          Chennai Super Kings   \n",
       "2             Delhi Daredevils             Rajasthan Royals   \n",
       "3               Mumbai Indians  Royal Challengers Bangalore   \n",
       "4        Kolkata Knight Riders              Deccan Chargers   \n",
       "\n",
       "                        winner  \n",
       "0        Kolkata Knight Riders  \n",
       "1          Chennai Super Kings  \n",
       "2             Delhi Daredevils  \n",
       "3  Royal Challengers Bangalore  \n",
       "4        Kolkata Knight Riders  "
      ]
     },
     "execution_count": 18,
     "metadata": {},
     "output_type": "execute_result"
    }
   ],
   "source": [
    "ipl[['team1','team2','winner']].head(5)"
   ]
  },
  {
   "cell_type": "markdown",
   "id": "33f600ae",
   "metadata": {},
   "source": [
    "# 17. Toss decision plot"
   ]
  },
  {
   "cell_type": "code",
   "execution_count": 19,
   "id": "5e8321f5",
   "metadata": {},
   "outputs": [
    {
     "data": {
      "text/plain": [
       "<Axes: ylabel='toss_decision'>"
      ]
     },
     "execution_count": 19,
     "metadata": {},
     "output_type": "execute_result"
    },
    {
     "data": {
      "image/png": "[encoded data removed]",
      "text/plain": [
       "<Figure size 640x480 with 1 Axes>"
      ]
     },
     "metadata": {},
     "output_type": "display_data"
    }
   ],
   "source": [
    "ipl['toss_decision'].value_counts().plot(kind='pie',autopct='%.1f%%')"
   ]
  },
  {
   "cell_type": "markdown",
   "id": "0f80f627",
   "metadata": {},
   "source": [
    "# 18. Toss winner is match winner in percentage"
   ]
  },
  {
   "cell_type": "code",
   "execution_count": 20,
   "id": "1e72bf7f",
   "metadata": {},
   "outputs": [
    {
     "data": {
      "text/plain": [
       "50.593607305936075"
      ]
     },
     "execution_count": 20,
     "metadata": {},
     "output_type": "execute_result"
    }
   ],
   "source": [
    "(ipl[ipl['toss_winner'] == ipl['winner']].shape[0]/ipl.shape[0])*100"
   ]
  },
  {
   "cell_type": "markdown",
   "id": "25083af8",
   "metadata": {},
   "source": [
    "# 19. Find the top 10 batsman in terms of runs"
   ]
  },
  {
   "cell_type": "code",
   "execution_count": 21,
   "id": "aff31e3e",
   "metadata": {},
   "outputs": [
    {
     "data": {
      "text/plain": [
       "batter\n",
       "V Kohli           8014\n",
       "S Dhawan          6769\n",
       "RG Sharma         6630\n",
       "DA Warner         6567\n",
       "SK Raina          5536\n",
       "MS Dhoni          5243\n",
       "AB de Villiers    5181\n",
       "CH Gayle          4997\n",
       "RV Uthappa        4954\n",
       "KD Karthik        4843\n",
       "Name: batsman_runs, dtype: int64"
      ]
     },
     "execution_count": 21,
     "metadata": {},
     "output_type": "execute_result"
    }
   ],
   "source": [
    "d.groupby('batter')['batsman_runs'].sum().sort_values(ascending=False).head(10)"
   ]
  },
  {
   "cell_type": "markdown",
   "id": "3e84e848",
   "metadata": {},
   "source": [
    "# 20. Find Top 5 batsman with maximum no of sixes"
   ]
  },
  {
   "cell_type": "code",
   "execution_count": 22,
   "id": "f7d2ff83",
   "metadata": {},
   "outputs": [
    {
     "data": {
      "text/plain": [
       "batter\n",
       "CH Gayle          359\n",
       "RG Sharma         281\n",
       "V Kohli           273\n",
       "AB de Villiers    253\n",
       "MS Dhoni          252\n",
       "DA Warner         236\n",
       "KA Pollard        224\n",
       "AD Russell        209\n",
       "SV Samson         206\n",
       "SK Raina          204\n",
       "Name: batter, dtype: int64"
      ]
     },
     "execution_count": 22,
     "metadata": {},
     "output_type": "execute_result"
    }
   ],
   "source": [
    "six = d[d['batsman_runs'] == 6]\n",
    "six.groupby('batter')['batter'].count().sort_values(ascending=False).head(10)"
   ]
  },
  {
   "cell_type": "markdown",
   "id": "7c26c987",
   "metadata": {},
   "source": [
    "# 21. Find Top 5 batsman with maximum no of Fours"
   ]
  },
  {
   "cell_type": "code",
   "execution_count": 23,
   "id": "ab0d7e36",
   "metadata": {},
   "outputs": [
    {
     "data": {
      "text/plain": [
       "batter\n",
       "S Dhawan        768\n",
       "V Kohli         708\n",
       "DA Warner       663\n",
       "RG Sharma       599\n",
       "SK Raina        506\n",
       "G Gambhir       492\n",
       "RV Uthappa      481\n",
       "AM Rahane       479\n",
       "KD Karthik      466\n",
       "F du Plessis    422\n",
       "Name: batter, dtype: int64"
      ]
     },
     "execution_count": 23,
     "metadata": {},
     "output_type": "execute_result"
    }
   ],
   "source": [
    "six = d[d['batsman_runs'] == 4]\n",
    "six.groupby('batter')['batter'].count().sort_values(ascending=False).head(10)"
   ]
  },
  {
   "cell_type": "markdown",
   "id": "4147e8ef",
   "metadata": {},
   "source": [
    "# 22. Find batsman with most number of 4's and 6's in last 5 overs"
   ]
  },
  {
   "cell_type": "code",
   "execution_count": 24,
   "id": "4a4fbe5c",
   "metadata": {},
   "outputs": [
    {
     "data": {
      "text/plain": [
       "batter\n",
       "MS Dhoni          211\n",
       "KD Karthik        142\n",
       "KA Pollard        110\n",
       "AB de Villiers    106\n",
       "RA Jadeja         104\n",
       "RG Sharma          94\n",
       "V Kohli            78\n",
       "AD Russell         78\n",
       "HH Pandya          76\n",
       "YK Pathan          76\n",
       "Name: batter, dtype: int64"
      ]
     },
     "execution_count": 24,
     "metadata": {},
     "output_type": "execute_result"
    }
   ],
   "source": [
    "tf = d[d['over'] > 15]\n",
    "tf = tf[(tf['batsman_runs'] == 4) | (tf['batsman_runs'] == 4)]\n",
    "tf.groupby('batter')['batter'].count().sort_values(ascending=False).head(10)"
   ]
  },
  {
   "cell_type": "markdown",
   "id": "39c75120",
   "metadata": {},
   "source": [
    "# 23. Find batsman with most number of 6's in last 5 overs"
   ]
  },
  {
   "cell_type": "code",
   "execution_count": 25,
   "id": "a89e6597",
   "metadata": {},
   "outputs": [
    {
     "data": {
      "text/plain": [
       "batter\n",
       "MS Dhoni          175\n",
       "KA Pollard        127\n",
       "AB de Villiers    112\n",
       "AD Russell         93\n",
       "KD Karthik         91\n",
       "HH Pandya          82\n",
       "RG Sharma          79\n",
       "V Kohli            71\n",
       "RA Jadeja          69\n",
       "DA Miller          60\n",
       "Name: batter, dtype: int64"
      ]
     },
     "execution_count": 25,
     "metadata": {},
     "output_type": "execute_result"
    }
   ],
   "source": [
    "tf = d[d['over'] > 15]\n",
    "tf = tf[tf['batsman_runs'] == 6]\n",
    "tf.groupby('batter')['batter'].count().sort_values(ascending=False).head(10)"
   ]
  },
  {
   "cell_type": "markdown",
   "id": "7bb69921",
   "metadata": {},
   "source": [
    "# 24. Top 10 Wicket taker in ipl"
   ]
  },
  {
   "cell_type": "code",
   "execution_count": 26,
   "id": "6c9bbe11",
   "metadata": {},
   "outputs": [
    {
     "data": {
      "text/html": [
       "<div>\n",
       "<style scoped>\n",
       "    .dataframe tbody tr th:only-of-type {\n",
       "        vertical-align: middle;\n",
       "    }\n",
       "\n",
       "    .dataframe tbody tr th {\n",
       "        vertical-align: top;\n",
       "    }\n",
       "\n",
       "    .dataframe thead th {\n",
       "        text-align: right;\n",
       "    }\n",
       "</style>\n",
       "<table border=\"1\" class=\"dataframe\">\n",
       "  <thead>\n",
       "    <tr style=\"text-align: right;\">\n",
       "      <th></th>\n",
       "      <th>bowler</th>\n",
       "      <th>player_dismissed</th>\n",
       "    </tr>\n",
       "  </thead>\n",
       "  <tbody>\n",
       "    <tr>\n",
       "      <th>524</th>\n",
       "      <td>YS Chahal</td>\n",
       "      <td>205</td>\n",
       "    </tr>\n",
       "    <tr>\n",
       "      <th>348</th>\n",
       "      <td>PP Chawla</td>\n",
       "      <td>192</td>\n",
       "    </tr>\n",
       "    <tr>\n",
       "      <th>119</th>\n",
       "      <td>DJ Bravo</td>\n",
       "      <td>183</td>\n",
       "    </tr>\n",
       "    <tr>\n",
       "      <th>355</th>\n",
       "      <td>R Ashwin</td>\n",
       "      <td>181</td>\n",
       "    </tr>\n",
       "    <tr>\n",
       "      <th>71</th>\n",
       "      <td>B Kumar</td>\n",
       "      <td>181</td>\n",
       "    </tr>\n",
       "    <tr>\n",
       "      <th>446</th>\n",
       "      <td>SP Narine</td>\n",
       "      <td>180</td>\n",
       "    </tr>\n",
       "    <tr>\n",
       "      <th>8</th>\n",
       "      <td>A Mishra</td>\n",
       "      <td>174</td>\n",
       "    </tr>\n",
       "    <tr>\n",
       "      <th>438</th>\n",
       "      <td>SL Malinga</td>\n",
       "      <td>170</td>\n",
       "    </tr>\n",
       "    <tr>\n",
       "      <th>193</th>\n",
       "      <td>JJ Bumrah</td>\n",
       "      <td>168</td>\n",
       "    </tr>\n",
       "    <tr>\n",
       "      <th>373</th>\n",
       "      <td>RA Jadeja</td>\n",
       "      <td>160</td>\n",
       "    </tr>\n",
       "  </tbody>\n",
       "</table>\n",
       "</div>"
      ],
      "text/plain": [
       "         bowler  player_dismissed\n",
       "524   YS Chahal               205\n",
       "348   PP Chawla               192\n",
       "119    DJ Bravo               183\n",
       "355    R Ashwin               181\n",
       "71      B Kumar               181\n",
       "446   SP Narine               180\n",
       "8      A Mishra               174\n",
       "438  SL Malinga               170\n",
       "193   JJ Bumrah               168\n",
       "373   RA Jadeja               160"
      ]
     },
     "execution_count": 26,
     "metadata": {},
     "output_type": "execute_result"
    }
   ],
   "source": [
    "wicket = d[d['dismissal_kind'] != 'run out']\n",
    "wicket = wicket.groupby('bowler')['player_dismissed'].count().reset_index()\n",
    "wicket = wicket.sort_values('player_dismissed', ascending=False).head(10)\n",
    "wicket"
   ]
  },
  {
   "cell_type": "markdown",
   "id": "a296b3f6",
   "metadata": {},
   "source": [
    "# 25. Most frequent fielders in IPL"
   ]
  },
  {
   "cell_type": "code",
   "execution_count": 27,
   "id": "6eccd9bf",
   "metadata": {},
   "outputs": [
    {
     "data": {
      "text/plain": [
       "MS Dhoni          220\n",
       "KD Karthik        199\n",
       "AB de Villiers    141\n",
       "RV Uthappa        133\n",
       "WP Saha           131\n",
       "V Kohli           131\n",
       "SK Raina          119\n",
       "RA Jadeja         116\n",
       "SV Samson         115\n",
       "RG Sharma         111\n",
       "Name: fielder, dtype: int64"
      ]
     },
     "execution_count": 27,
     "metadata": {},
     "output_type": "execute_result"
    }
   ],
   "source": [
    "fielder = d['fielder'].value_counts().head(10)\n",
    "fielder"
   ]
  },
  {
   "cell_type": "markdown",
   "id": "3acf7c02",
   "metadata": {},
   "source": [
    "\n",
    "# 26. Create a function that can return the highest score of any batsman"
   ]
  },
  {
   "cell_type": "code",
   "execution_count": 28,
   "id": "7810dc4d",
   "metadata": {},
   "outputs": [
    {
     "data": {
      "text/plain": [
       "84"
      ]
     },
     "execution_count": 28,
     "metadata": {},
     "output_type": "execute_result"
    }
   ],
   "source": [
    "def highest(batsman):\n",
    "  temp_df = d[d['batter'] == batsman]\n",
    "  return temp_df.groupby('match_id')['batsman_runs'].sum().sort_values(ascending=False).head(1).values[0]\n",
    "\n",
    "\n",
    "highest('MS Dhoni')"
   ]
  },
  {
   "cell_type": "markdown",
   "id": "c0f2b04a",
   "metadata": {},
   "source": [
    "# 27. Highest runs in every season"
   ]
  },
  {
   "cell_type": "code",
   "execution_count": 29,
   "id": "79224dc2",
   "metadata": {},
   "outputs": [
    {
     "data": {
      "text/html": [
       "<div>\n",
       "<style scoped>\n",
       "    .dataframe tbody tr th:only-of-type {\n",
       "        vertical-align: middle;\n",
       "    }\n",
       "\n",
       "    .dataframe tbody tr th {\n",
       "        vertical-align: top;\n",
       "    }\n",
       "\n",
       "    .dataframe thead th {\n",
       "        text-align: right;\n",
       "    }\n",
       "</style>\n",
       "<table border=\"1\" class=\"dataframe\">\n",
       "  <thead>\n",
       "    <tr style=\"text-align: right;\">\n",
       "      <th></th>\n",
       "      <th>season</th>\n",
       "      <th>batter</th>\n",
       "      <th>batsman_runs</th>\n",
       "    </tr>\n",
       "  </thead>\n",
       "  <tbody>\n",
       "    <tr>\n",
       "      <th>115</th>\n",
       "      <td>2007/08</td>\n",
       "      <td>SE Marsh</td>\n",
       "      <td>616</td>\n",
       "    </tr>\n",
       "    <tr>\n",
       "      <th>229</th>\n",
       "      <td>2009</td>\n",
       "      <td>ML Hayden</td>\n",
       "      <td>572</td>\n",
       "    </tr>\n",
       "    <tr>\n",
       "      <th>446</th>\n",
       "      <td>2009/10</td>\n",
       "      <td>SR Tendulkar</td>\n",
       "      <td>618</td>\n",
       "    </tr>\n",
       "    <tr>\n",
       "      <th>502</th>\n",
       "      <td>2011</td>\n",
       "      <td>CH Gayle</td>\n",
       "      <td>608</td>\n",
       "    </tr>\n",
       "    <tr>\n",
       "      <th>684</th>\n",
       "      <td>2012</td>\n",
       "      <td>CH Gayle</td>\n",
       "      <td>733</td>\n",
       "    </tr>\n",
       "    <tr>\n",
       "      <th>910</th>\n",
       "      <td>2013</td>\n",
       "      <td>MEK Hussey</td>\n",
       "      <td>733</td>\n",
       "    </tr>\n",
       "    <tr>\n",
       "      <th>1088</th>\n",
       "      <td>2014</td>\n",
       "      <td>RV Uthappa</td>\n",
       "      <td>660</td>\n",
       "    </tr>\n",
       "    <tr>\n",
       "      <th>1148</th>\n",
       "      <td>2015</td>\n",
       "      <td>DA Warner</td>\n",
       "      <td>562</td>\n",
       "    </tr>\n",
       "    <tr>\n",
       "      <th>1383</th>\n",
       "      <td>2016</td>\n",
       "      <td>V Kohli</td>\n",
       "      <td>973</td>\n",
       "    </tr>\n",
       "    <tr>\n",
       "      <th>1422</th>\n",
       "      <td>2017</td>\n",
       "      <td>DA Warner</td>\n",
       "      <td>641</td>\n",
       "    </tr>\n",
       "    <tr>\n",
       "      <th>1594</th>\n",
       "      <td>2018</td>\n",
       "      <td>KS Williamson</td>\n",
       "      <td>735</td>\n",
       "    </tr>\n",
       "    <tr>\n",
       "      <th>1694</th>\n",
       "      <td>2019</td>\n",
       "      <td>DA Warner</td>\n",
       "      <td>692</td>\n",
       "    </tr>\n",
       "    <tr>\n",
       "      <th>1866</th>\n",
       "      <td>2020/21</td>\n",
       "      <td>KL Rahul</td>\n",
       "      <td>676</td>\n",
       "    </tr>\n",
       "    <tr>\n",
       "      <th>2051</th>\n",
       "      <td>2021</td>\n",
       "      <td>RD Gaikwad</td>\n",
       "      <td>635</td>\n",
       "    </tr>\n",
       "    <tr>\n",
       "      <th>2144</th>\n",
       "      <td>2022</td>\n",
       "      <td>JC Buttler</td>\n",
       "      <td>863</td>\n",
       "    </tr>\n",
       "    <tr>\n",
       "      <th>2423</th>\n",
       "      <td>2023</td>\n",
       "      <td>Shubman Gill</td>\n",
       "      <td>890</td>\n",
       "    </tr>\n",
       "    <tr>\n",
       "      <th>2606</th>\n",
       "      <td>2024</td>\n",
       "      <td>V Kohli</td>\n",
       "      <td>741</td>\n",
       "    </tr>\n",
       "  </tbody>\n",
       "</table>\n",
       "</div>"
      ],
      "text/plain": [
       "       season         batter  batsman_runs\n",
       "115   2007/08       SE Marsh           616\n",
       "229      2009      ML Hayden           572\n",
       "446   2009/10   SR Tendulkar           618\n",
       "502      2011       CH Gayle           608\n",
       "684      2012       CH Gayle           733\n",
       "910      2013     MEK Hussey           733\n",
       "1088     2014     RV Uthappa           660\n",
       "1148     2015      DA Warner           562\n",
       "1383     2016        V Kohli           973\n",
       "1422     2017      DA Warner           641\n",
       "1594     2018  KS Williamson           735\n",
       "1694     2019      DA Warner           692\n",
       "1866  2020/21       KL Rahul           676\n",
       "2051     2021     RD Gaikwad           635\n",
       "2144     2022     JC Buttler           863\n",
       "2423     2023   Shubman Gill           890\n",
       "2606     2024        V Kohli           741"
      ]
     },
     "execution_count": 29,
     "metadata": {},
     "output_type": "execute_result"
    }
   ],
   "source": [
    "temp_df = d.merge(ipl,left_on='match_id',right_on='id')\n",
    "temp_df.groupby(['season','batter'])['batsman_runs'].sum().reset_index().sort_values('batsman_runs',ascending=False).drop_duplicates(subset=['season'],keep='first').sort_values('season')"
   ]
  },
  {
   "cell_type": "markdown",
   "id": "fea47a41",
   "metadata": {},
   "source": [
    "# 28. Which bowler has taken the most wickets in powerplays (first 6 overs)?"
   ]
  },
  {
   "cell_type": "code",
   "execution_count": 30,
   "id": "269796f9",
   "metadata": {},
   "outputs": [
    {
     "data": {
      "text/plain": [
       "bowler\n",
       "B Kumar           72\n",
       "Sandeep Sharma    62\n",
       "TA Boult          62\n",
       "UT Yadav          60\n",
       "DL Chahar         59\n",
       "I Sharma          59\n",
       "Z Khan            54\n",
       "R Ashwin          51\n",
       "Mohammed Shami    46\n",
       "P Kumar           44\n",
       "Name: dismissal_kind, dtype: int64"
      ]
     },
     "execution_count": 30,
     "metadata": {},
     "output_type": "execute_result"
    }
   ],
   "source": [
    "p = d[(d['over'] <= 6)]\n",
    "pw = p[p['dismissal_kind'] != 'run out']\n",
    "pw.groupby('bowler')['dismissal_kind'].count().sort_values(ascending=False).head(10)"
   ]
  },
  {
   "cell_type": "markdown",
   "id": "ff235937",
   "metadata": {},
   "source": [
    "# 29. Determine the bowler with the best bowling figures (most wickets in a single match) in the IPL dataset."
   ]
  },
  {
   "cell_type": "code",
   "execution_count": 31,
   "id": "0c403db0",
   "metadata": {},
   "outputs": [
    {
     "data": {
      "text/plain": [
       "0    YK Pathan\n",
       "Name: player_of_match, dtype: object"
      ]
     },
     "execution_count": 31,
     "metadata": {},
     "output_type": "execute_result"
    }
   ],
   "source": [
    "ipl[ipl['result'] == 'wickets']['player_of_match'].mode()"
   ]
  },
  {
   "cell_type": "markdown",
   "id": "8ec41463",
   "metadata": {},
   "source": [
    "# 30. Who has the best bowling figures (most wickets in a single match) in IPL history?"
   ]
  },
  {
   "cell_type": "code",
   "execution_count": 32,
   "id": "6f7ece9c",
   "metadata": {},
   "outputs": [
    {
     "data": {
      "text/html": [
       "<div>\n",
       "<style scoped>\n",
       "    .dataframe tbody tr th:only-of-type {\n",
       "        vertical-align: middle;\n",
       "    }\n",
       "\n",
       "    .dataframe tbody tr th {\n",
       "        vertical-align: top;\n",
       "    }\n",
       "\n",
       "    .dataframe thead th {\n",
       "        text-align: right;\n",
       "    }\n",
       "</style>\n",
       "<table border=\"1\" class=\"dataframe\">\n",
       "  <thead>\n",
       "    <tr style=\"text-align: right;\">\n",
       "      <th></th>\n",
       "      <th>match_id</th>\n",
       "      <th>bowler</th>\n",
       "      <th>player_dismissed</th>\n",
       "    </tr>\n",
       "  </thead>\n",
       "  <tbody>\n",
       "    <tr>\n",
       "      <th>9668</th>\n",
       "      <td>1254058</td>\n",
       "      <td>HV Patel</td>\n",
       "      <td>6</td>\n",
       "    </tr>\n",
       "    <tr>\n",
       "      <th>290</th>\n",
       "      <td>336005</td>\n",
       "      <td>Sohail Tanvir</td>\n",
       "      <td>6</td>\n",
       "    </tr>\n",
       "    <tr>\n",
       "      <th>11969</th>\n",
       "      <td>1359536</td>\n",
       "      <td>B Kumar</td>\n",
       "      <td>6</td>\n",
       "    </tr>\n",
       "    <tr>\n",
       "      <th>8499</th>\n",
       "      <td>1178394</td>\n",
       "      <td>AS Joseph</td>\n",
       "      <td>6</td>\n",
       "    </tr>\n",
       "    <tr>\n",
       "      <th>12086</th>\n",
       "      <td>1370351</td>\n",
       "      <td>Akash Madhwal</td>\n",
       "      <td>6</td>\n",
       "    </tr>\n",
       "    <tr>\n",
       "      <th>4546</th>\n",
       "      <td>598056</td>\n",
       "      <td>DJG Sammy</td>\n",
       "      <td>6</td>\n",
       "    </tr>\n",
       "    <tr>\n",
       "      <th>6609</th>\n",
       "      <td>980979</td>\n",
       "      <td>A Zampa</td>\n",
       "      <td>6</td>\n",
       "    </tr>\n",
       "    <tr>\n",
       "      <th>6510</th>\n",
       "      <td>980963</td>\n",
       "      <td>AD Russell</td>\n",
       "      <td>6</td>\n",
       "    </tr>\n",
       "    <tr>\n",
       "      <th>2392</th>\n",
       "      <td>501221</td>\n",
       "      <td>Harbhajan Singh</td>\n",
       "      <td>5</td>\n",
       "    </tr>\n",
       "    <tr>\n",
       "      <th>784</th>\n",
       "      <td>392190</td>\n",
       "      <td>Kamran Khan</td>\n",
       "      <td>5</td>\n",
       "    </tr>\n",
       "  </tbody>\n",
       "</table>\n",
       "</div>"
      ],
      "text/plain": [
       "       match_id           bowler  player_dismissed\n",
       "9668    1254058         HV Patel                 6\n",
       "290      336005    Sohail Tanvir                 6\n",
       "11969   1359536          B Kumar                 6\n",
       "8499    1178394        AS Joseph                 6\n",
       "12086   1370351    Akash Madhwal                 6\n",
       "4546     598056        DJG Sammy                 6\n",
       "6609     980979          A Zampa                 6\n",
       "6510     980963       AD Russell                 6\n",
       "2392     501221  Harbhajan Singh                 5\n",
       "784      392190      Kamran Khan                 5"
      ]
     },
     "execution_count": 32,
     "metadata": {},
     "output_type": "execute_result"
    }
   ],
   "source": [
    "bowl = d.groupby(['match_id', 'bowler'])['player_dismissed'].count().reset_index()\n",
    "bowl.sort_values(by='player_dismissed', ascending=False).head(10)"
   ]
  },
  {
   "cell_type": "markdown",
   "id": "0846bff0",
   "metadata": {},
   "source": [
    "# 31. Avg sixes in Stadium"
   ]
  },
  {
   "cell_type": "code",
   "execution_count": 33,
   "id": "6e35d86d",
   "metadata": {},
   "outputs": [
    {
     "data": {
      "text/plain": [
       "Dr. Y.S. Rajasekhara Reddy ACA-VDCA Cricket Stadium, Visakhapatnam    22.500000\n",
       "M Chinnaswamy Stadium, Bengaluru                                      20.357143\n",
       "Eden Gardens, Kolkata                                                 20.125000\n",
       "Himachal Pradesh Cricket Association Stadium, Dharamsala              18.750000\n",
       "Arun Jaitley Stadium, Delhi                                           18.687500\n",
       "Holkar Cricket Stadium                                                17.222222\n",
       "M.Chinnaswamy Stadium                                                 17.066667\n",
       "Rajiv Gandhi International Stadium, Uppal, Hyderabad                  16.692308\n",
       "Wankhede Stadium, Mumbai                                              15.800000\n",
       "Narendra Modi Stadium, Ahmedabad                                      15.666667\n",
       "Name: venue, dtype: float64"
      ]
     },
     "execution_count": 33,
     "metadata": {},
     "output_type": "execute_result"
    }
   ],
   "source": [
    "temp_df = d.merge(ipl,left_on='match_id',right_on='id')\n",
    "six_df = temp_df[temp_df['batsman_runs'] == 6]\n",
    "num_sixes = six_df.groupby('venue')['venue'].count()\n",
    "\n",
    "num_matches = ipl['venue'].value_counts()\n",
    "(num_sixes/num_matches).sort_values(ascending=False).head(10)"
   ]
  },
  {
   "cell_type": "markdown",
   "id": "b6536671",
   "metadata": {},
   "source": [
    "# 32. Count the number of matches played at each venue/stadium"
   ]
  },
  {
   "cell_type": "code",
   "execution_count": 34,
   "id": "045cb1c5",
   "metadata": {},
   "outputs": [
    {
     "data": {
      "text/plain": [
       "Eden Gardens                                                             77\n",
       "Wankhede Stadium                                                         73\n",
       "M Chinnaswamy Stadium                                                    65\n",
       "Feroz Shah Kotla                                                         60\n",
       "Rajiv Gandhi International Stadium, Uppal                                49\n",
       "MA Chidambaram Stadium, Chepauk                                          48\n",
       "Sawai Mansingh Stadium                                                   47\n",
       "Dubai International Cricket Stadium                                      46\n",
       "Wankhede Stadium, Mumbai                                                 45\n",
       "Punjab Cricket Association Stadium, Mohali                               35\n",
       "Sheikh Zayed Stadium                                                     29\n",
       "Sharjah Cricket Stadium                                                  28\n",
       "MA Chidambaram Stadium, Chepauk, Chennai                                 28\n",
       "Narendra Modi Stadium, Ahmedabad                                         24\n",
       "Maharashtra Cricket Association Stadium                                  22\n",
       "Dr DY Patil Sports Academy, Mumbai                                       20\n",
       "Brabourne Stadium, Mumbai                                                17\n",
       "Dr DY Patil Sports Academy                                               17\n",
       "Eden Gardens, Kolkata                                                    16\n",
       "Subrata Roy Sahara Stadium                                               16\n",
       "Arun Jaitley Stadium, Delhi                                              16\n",
       "Rajiv Gandhi International Stadium                                       15\n",
       "M.Chinnaswamy Stadium                                                    15\n",
       "Kingsmead                                                                15\n",
       "Arun Jaitley Stadium                                                     14\n",
       "Bharat Ratna Shri Atal Bihari Vajpayee Ekana Cricket Stadium, Lucknow    14\n",
       "M Chinnaswamy Stadium, Bengaluru                                         14\n",
       "Rajiv Gandhi International Stadium, Uppal, Hyderabad                     13\n",
       "Maharashtra Cricket Association Stadium, Pune                            13\n",
       "Dr. Y.S. Rajasekhara Reddy ACA-VDCA Cricket Stadium                      13\n",
       "SuperSport Park                                                          12\n",
       "Sardar Patel Stadium, Motera                                             12\n",
       "Punjab Cricket Association IS Bindra Stadium, Mohali                     11\n",
       "Sawai Mansingh Stadium, Jaipur                                           10\n",
       "Saurashtra Cricket Association Stadium                                   10\n",
       "Brabourne Stadium                                                        10\n",
       "Punjab Cricket Association IS Bindra Stadium                             10\n",
       "Himachal Pradesh Cricket Association Stadium                              9\n",
       "MA Chidambaram Stadium                                                    9\n",
       "Holkar Cricket Stadium                                                    9\n",
       "New Wanderers Stadium                                                     8\n",
       "Zayed Cricket Stadium, Abu Dhabi                                          8\n",
       "JSCA International Stadium Complex                                        7\n",
       "Barabati Stadium                                                          7\n",
       "St George's Park                                                          7\n",
       "Newlands                                                                  7\n",
       "Shaheed Veer Narayan Singh International Stadium                          6\n",
       "Nehru Stadium                                                             5\n",
       "Punjab Cricket Association IS Bindra Stadium, Mohali, Chandigarh          5\n",
       "Maharaja Yadavindra Singh International Cricket Stadium, Mullanpur        5\n",
       "Green Park                                                                4\n",
       "Himachal Pradesh Cricket Association Stadium, Dharamsala                  4\n",
       "Vidarbha Cricket Association Stadium, Jamtha                              3\n",
       "De Beers Diamond Oval                                                     3\n",
       "Buffalo Park                                                              3\n",
       "Barsapara Cricket Stadium, Guwahati                                       3\n",
       "OUTsurance Oval                                                           2\n",
       "Dr. Y.S. Rajasekhara Reddy ACA-VDCA Cricket Stadium, Visakhapatnam        2\n",
       "Name: venue, dtype: int64"
      ]
     },
     "execution_count": 34,
     "metadata": {},
     "output_type": "execute_result"
    }
   ],
   "source": [
    "ipl['venue'].value_counts()"
   ]
  },
  {
   "cell_type": "markdown",
   "id": "a5be1e1c",
   "metadata": {},
   "source": [
    "# 33. Cities where the most matches have been played\n"
   ]
  },
  {
   "cell_type": "code",
   "execution_count": 35,
   "id": "84321173",
   "metadata": {
    "scrolled": true
   },
   "outputs": [
    {
     "data": {
      "text/plain": [
       "Mumbai            173\n",
       "Kolkata            93\n",
       "Delhi              90\n",
       "Chennai            85\n",
       "Hyderabad          77\n",
       "Bangalore          65\n",
       "Chandigarh         61\n",
       "Jaipur             57\n",
       "Pune               51\n",
       "Abu Dhabi          37\n",
       "Ahmedabad          36\n",
       "Bengaluru          29\n",
       "Durban             15\n",
       "Visakhapatnam      15\n",
       "Lucknow            14\n",
       "Dubai              13\n",
       "Dharamsala         13\n",
       "Centurion          12\n",
       "Rajkot             10\n",
       "Sharjah            10\n",
       "Indore              9\n",
       "Navi Mumbai         9\n",
       "Johannesburg        8\n",
       "Cuttack             7\n",
       "Port Elizabeth      7\n",
       "Ranchi              7\n",
       "Cape Town           7\n",
       "Raipur              6\n",
       "Mohali              5\n",
       "Kochi               5\n",
       "Kanpur              4\n",
       "Kimberley           3\n",
       "East London         3\n",
       "Guwahati            3\n",
       "Nagpur              3\n",
       "Bloemfontein        2\n",
       "Name: city, dtype: int64"
      ]
     },
     "execution_count": 35,
     "metadata": {},
     "output_type": "execute_result"
    }
   ],
   "source": [
    "ipl['city'].value_counts()"
   ]
  },
  {
   "cell_type": "markdown",
   "id": "68a64e9b",
   "metadata": {},
   "source": [
    "# 34. Most common dismissal types in IPL matches"
   ]
  },
  {
   "cell_type": "code",
   "execution_count": 36,
   "id": "61b87c46",
   "metadata": {},
   "outputs": [
    {
     "data": {
      "text/plain": [
       "caught                   8063\n",
       "bowled                   2212\n",
       "run out                  1114\n",
       "lbw                       800\n",
       "caught and bowled         367\n",
       "stumped                   358\n",
       "retired hurt               15\n",
       "hit wicket                 15\n",
       "obstructing the field       3\n",
       "retired out                 3\n",
       "Name: dismissal_kind, dtype: int64"
      ]
     },
     "execution_count": 36,
     "metadata": {},
     "output_type": "execute_result"
    }
   ],
   "source": [
    "d['dismissal_kind'].value_counts()"
   ]
  },
  {
   "cell_type": "markdown",
   "id": "4b55dcee",
   "metadata": {},
   "source": [
    "# 35. Most common method of dismissal for MS Dhoni"
   ]
  },
  {
   "cell_type": "code",
   "execution_count": 37,
   "id": "56c9d238",
   "metadata": {},
   "outputs": [
    {
     "data": {
      "text/plain": [
       "caught               92\n",
       "run out              25\n",
       "bowled               20\n",
       "lbw                   5\n",
       "caught and bowled     4\n",
       "stumped               3\n",
       "Name: dismissal_kind, dtype: int64"
      ]
     },
     "execution_count": 37,
     "metadata": {},
     "output_type": "execute_result"
    }
   ],
   "source": [
    "d[d['batter'] == 'MS Dhoni']['dismissal_kind'].value_counts()"
   ]
  },
  {
   "cell_type": "markdown",
   "id": "c8bd332f",
   "metadata": {},
   "source": [
    "# 36. Highest winning margin"
   ]
  },
  {
   "cell_type": "code",
   "execution_count": 38,
   "id": "63154f99",
   "metadata": {},
   "outputs": [
    {
     "data": {
      "text/html": [
       "<div>\n",
       "<style scoped>\n",
       "    .dataframe tbody tr th:only-of-type {\n",
       "        vertical-align: middle;\n",
       "    }\n",
       "\n",
       "    .dataframe tbody tr th {\n",
       "        vertical-align: top;\n",
       "    }\n",
       "\n",
       "    .dataframe thead th {\n",
       "        text-align: right;\n",
       "    }\n",
       "</style>\n",
       "<table border=\"1\" class=\"dataframe\">\n",
       "  <thead>\n",
       "    <tr style=\"text-align: right;\">\n",
       "      <th></th>\n",
       "      <th>id</th>\n",
       "      <th>season</th>\n",
       "      <th>city</th>\n",
       "      <th>date</th>\n",
       "      <th>match_type</th>\n",
       "      <th>player_of_match</th>\n",
       "      <th>venue</th>\n",
       "      <th>team1</th>\n",
       "      <th>team2</th>\n",
       "      <th>toss_winner</th>\n",
       "      <th>toss_decision</th>\n",
       "      <th>winner</th>\n",
       "      <th>result</th>\n",
       "      <th>result_margin</th>\n",
       "      <th>target_runs</th>\n",
       "      <th>target_overs</th>\n",
       "      <th>super_over</th>\n",
       "      <th>method</th>\n",
       "      <th>umpire1</th>\n",
       "      <th>umpire2</th>\n",
       "    </tr>\n",
       "  </thead>\n",
       "  <tbody>\n",
       "    <tr>\n",
       "      <th>620</th>\n",
       "      <td>1082635</td>\n",
       "      <td>2017</td>\n",
       "      <td>Delhi</td>\n",
       "      <td>2017-05-06</td>\n",
       "      <td>League</td>\n",
       "      <td>LMP Simmons</td>\n",
       "      <td>Feroz Shah Kotla</td>\n",
       "      <td>Delhi Daredevils</td>\n",
       "      <td>Mumbai Indians</td>\n",
       "      <td>Delhi Daredevils</td>\n",
       "      <td>field</td>\n",
       "      <td>Mumbai Indians</td>\n",
       "      <td>runs</td>\n",
       "      <td>146.0</td>\n",
       "      <td>213.0</td>\n",
       "      <td>20.0</td>\n",
       "      <td>N</td>\n",
       "      <td>NaN</td>\n",
       "      <td>Nitin Menon</td>\n",
       "      <td>CK Nandan</td>\n",
       "    </tr>\n",
       "  </tbody>\n",
       "</table>\n",
       "</div>"
      ],
      "text/plain": [
       "          id season   city        date match_type player_of_match  \\\n",
       "620  1082635   2017  Delhi  2017-05-06     League     LMP Simmons   \n",
       "\n",
       "                venue             team1           team2       toss_winner  \\\n",
       "620  Feroz Shah Kotla  Delhi Daredevils  Mumbai Indians  Delhi Daredevils   \n",
       "\n",
       "    toss_decision          winner result  result_margin  target_runs  \\\n",
       "620         field  Mumbai Indians   runs          146.0        213.0   \n",
       "\n",
       "     target_overs super_over method      umpire1    umpire2  \n",
       "620          20.0          N    NaN  Nitin Menon  CK Nandan  "
      ]
     },
     "execution_count": 38,
     "metadata": {},
     "output_type": "execute_result"
    }
   ],
   "source": [
    "ipl[ipl['result_margin'] == ipl['result_margin'].max()]"
   ]
  },
  {
   "cell_type": "markdown",
   "id": "0a892954",
   "metadata": {},
   "source": [
    "#  37. Bar chart of the number of matches won by each team."
   ]
  },
  {
   "cell_type": "code",
   "execution_count": 39,
   "id": "470ba4af",
   "metadata": {},
   "outputs": [
    {
     "data": {
      "image/png": "[encoded data removed]",
      "text/plain": [
       "<Figure size 1200x600 with 1 Axes>"
      ]
     },
     "metadata": {},
     "output_type": "display_data"
    }
   ],
   "source": [
    "team_win_counts = ipl['winner'].value_counts()\n",
    "plt.figure(figsize=(12, 6))\n",
    "sns.barplot(x=team_win_counts.index, y=team_win_counts.values)\n",
    "plt.xticks(rotation=90)\n",
    "plt.xlabel('Teams')\n",
    "plt.ylabel('Number of Wins')\n",
    "plt.title('Number of Matches Won by Each Team')\n",
    "plt.show()"
   ]
  },
  {
   "cell_type": "markdown",
   "id": "3d13e0ba",
   "metadata": {},
   "source": [
    "# 38. Bar chart of number of matches played in each season."
   ]
  },
  {
   "cell_type": "code",
   "execution_count": 40,
   "id": "c831c140",
   "metadata": {},
   "outputs": [
    {
     "data": {
      "image/png": "[encoded data removed]",
      "text/plain": [
       "<Figure size 640x480 with 1 Axes>"
      ]
     },
     "metadata": {},
     "output_type": "display_data"
    }
   ],
   "source": [
    "season_counts = ipl['season'].value_counts().sort_index()\n",
    "season_counts.plot(kind='bar', xlabel='Season', ylabel='Number of Matches', title='Matches Played in Each Season')\n",
    "plt.xticks(rotation=45)\n",
    "plt.show()"
   ]
  },
  {
   "cell_type": "markdown",
   "id": "f6954b4e",
   "metadata": {},
   "source": [
    "# 39. Calculate the percentage of matches won by each team in a specific season like 2021."
   ]
  },
  {
   "cell_type": "code",
   "execution_count": 41,
   "id": "37379f7c",
   "metadata": {},
   "outputs": [
    {
     "data": {
      "text/plain": [
       "Chennai Super Kings            18.333333\n",
       "Delhi Capitals                 16.666667\n",
       "Royal Challengers Bangalore    15.000000\n",
       "Kolkata Knight Riders          15.000000\n",
       "Mumbai Indians                 11.666667\n",
       "Punjab Kings                   10.000000\n",
       "Rajasthan Royals                8.333333\n",
       "Sunrisers Hyderabad             5.000000\n",
       "Name: winner, dtype: float64"
      ]
     },
     "execution_count": 41,
     "metadata": {},
     "output_type": "execute_result"
    }
   ],
   "source": [
    "ipl[ipl['season'] == '2021']['winner'].value_counts() / ipl[ipl['season'] == '2021']['winner'].count() * 100"
   ]
  },
  {
   "cell_type": "markdown",
   "id": "8b918b30",
   "metadata": {},
   "source": [
    "# 40. Highest score of every batsman"
   ]
  },
  {
   "cell_type": "code",
   "execution_count": 42,
   "id": "80823a70",
   "metadata": {},
   "outputs": [
    {
     "name": "stdout",
     "output_type": "stream",
     "text": [
      "CH Gayle ,Highest Score: 175\n",
      "BB McCullum ,Highest Score: 158\n",
      "Q de Kock ,Highest Score: 140\n",
      "AB de Villiers ,Highest Score: 133\n",
      "KL Rahul ,Highest Score: 132\n",
      "Shubman Gill ,Highest Score: 129\n",
      "RR Pant ,Highest Score: 128\n",
      "M Vijay ,Highest Score: 127\n",
      "DA Warner ,Highest Score: 126\n",
      "JC Buttler ,Highest Score: 124\n",
      "MP Stoinis ,Highest Score: 124\n",
      "YBK Jaiswal ,Highest Score: 124\n",
      "V Sehwag ,Highest Score: 122\n",
      "PC Valthaty ,Highest Score: 120\n",
      "SV Samson ,Highest Score: 119\n",
      "SR Watson ,Highest Score: 117\n",
      "A Symonds ,Highest Score: 117\n",
      "MEK Hussey ,Highest Score: 116\n",
      "WP Saha ,Highest Score: 115\n",
      "SE Marsh ,Highest Score: 115\n",
      "ST Jayasuriya ,Highest Score: 114\n",
      "MK Pandey ,Highest Score: 114\n",
      "JM Bairstow ,Highest Score: 114\n",
      "V Kohli ,Highest Score: 113\n",
      "RM Patidar ,Highest Score: 112\n",
      "DPMD Jayawardene ,Highest Score: 110\n",
      "AC Gilchrist ,Highest Score: 109\n",
      "RG Sharma ,Highest Score: 109\n",
      "SP Narine ,Highest Score: 109\n",
      "RD Gaikwad ,Highest Score: 108\n",
      "BA Stokes ,Highest Score: 107\n",
      "S Dhawan ,Highest Score: 106\n",
      "MA Agarwal ,Highest Score: 106\n",
      "AM Rahane ,Highest Score: 105\n",
      "HM Amla ,Highest Score: 104\n",
      "H Klaasen ,Highest Score: 104\n",
      "VR Iyer ,Highest Score: 104\n",
      "KP Pietersen ,Highest Score: 103\n",
      "SA Yadav ,Highest Score: 103\n",
      "P Simran Singh ,Highest Score: 103\n",
      "B Sai Sudharsan ,Highest Score: 103\n",
      "TM Head ,Highest Score: 102\n",
      "SPD Smith ,Highest Score: 101\n",
      "DA Miller ,Highest Score: 101\n",
      "D Padikkal ,Highest Score: 101\n",
      "SK Raina ,Highest Score: 100\n",
      "YK Pathan ,Highest Score: 100\n",
      "SR Tendulkar ,Highest Score: 100\n",
      "AT Rayudu ,Highest Score: 100\n",
      "LMP Simmons ,Highest Score: 100\n",
      "HC Brook ,Highest Score: 100\n",
      "C Green ,Highest Score: 100\n",
      "WG Jacks ,Highest Score: 100\n",
      "Ishan Kishan ,Highest Score: 99\n",
      "PP Shaw ,Highest Score: 99\n",
      "KD Karthik ,Highest Score: 97\n",
      "F du Plessis ,Highest Score: 96\n",
      "SS Iyer ,Highest Score: 96\n",
      "GJ Maxwell ,Highest Score: 95\n",
      "M Vohra ,Highest Score: 95\n",
      "CJ Anderson ,Highest Score: 95\n",
      "S Dube ,Highest Score: 95\n",
      "KC Sangakkara ,Highest Score: 94\n",
      "NV Ojha ,Highest Score: 94\n",
      "LS Livingstone ,Highest Score: 94\n",
      "ML Hayden ,Highest Score: 93\n",
      "G Gambhir ,Highest Score: 93\n",
      "CA Lynn ,Highest Score: 93\n",
      "RA Tripathi ,Highest Score: 93\n",
      "MM Ali ,Highest Score: 93\n",
      "MS Bisla ,Highest Score: 92\n",
      "DP Conway ,Highest Score: 92\n",
      "SC Ganguly ,Highest Score: 91\n",
      "GC Smith ,Highest Score: 91\n",
      "HH Pandya ,Highest Score: 91\n",
      "JJ Roy ,Highest Score: 91\n",
      "JH Kallis ,Highest Score: 89\n",
      "MR Marsh ,Highest Score: 89\n",
      "KS Williamson ,Highest Score: 89\n",
      "PD Salt ,Highest Score: 89\n",
      "RV Uthappa ,Highest Score: 88\n",
      "AJ Finch ,Highest Score: 88\n",
      "AD Russell ,Highest Score: 88\n",
      "DR Smith ,Highest Score: 87\n",
      "KA Pollard ,Highest Score: 87\n",
      "N Rana ,Highest Score: 87\n",
      "JD Ryder ,Highest Score: 86\n",
      "KH Pandya ,Highest Score: 86\n",
      "MS Dhoni ,Highest Score: 84\n",
      "RS Bopara ,Highest Score: 84\n",
      "R Parag ,Highest Score: 84\n",
      "Tilak Varma ,Highest Score: 84\n",
      "J Fraser-McGurk ,Highest Score: 84\n",
      "Yuvraj Singh ,Highest Score: 83\n",
      "MJ Lumb ,Highest Score: 83\n",
      "KK Nair ,Highest Score: 83\n",
      "CH Morris ,Highest Score: 82\n",
      "RR Rossouw ,Highest Score: 82\n",
      "PA Patel ,Highest Score: 81\n",
      "LRPL Taylor ,Highest Score: 81\n",
      "Rahmanullah Gurbaz ,Highest Score: 81\n",
      "Azhar Mahmood ,Highest Score: 80\n",
      "LA Pomersbach ,Highest Score: 79\n",
      "JEC Franklin ,Highest Score: 79\n",
      "Rashid Khan ,Highest Score: 79\n",
      "CL White ,Highest Score: 78\n",
      "JP Duminy ,Highest Score: 78\n",
      "TL Suman ,Highest Score: 78\n",
      "KS Bharat ,Highest Score: 78\n",
      "Mandeep Singh ,Highest Score: 77\n",
      "N Pooran ,Highest Score: 77\n",
      "TM Dilshan ,Highest Score: 76\n",
      "OA Shah ,Highest Score: 76\n",
      "Nithish Kumar Reddy ,Highest Score: 76\n",
      "R Dravid ,Highest Score: 75\n",
      "SM Katich ,Highest Score: 75\n",
      "MK Tiwary ,Highest Score: 75\n",
      "PD Collingwood ,Highest Score: 75\n",
      "Abhishek Sharma ,Highest Score: 75\n",
      "SO Hetmyer ,Highest Score: 75\n",
      "MC Henriques ,Highest Score: 74\n",
      "MN van Wyk ,Highest Score: 74\n",
      "Salman Butt ,Highest Score: 73\n",
      "BJ Hodge ,Highest Score: 73\n",
      "JA Morkel ,Highest Score: 73\n",
      "KR Mayers ,Highest Score: 73\n",
      "DJ Hussey ,Highest Score: 71\n",
      "S Badrinath ,Highest Score: 71\n",
      "JR Hopes ,Highest Score: 71\n",
      "Y Venugopal Rao ,Highest Score: 71\n",
      "T Stubbs ,Highest Score: 71\n",
      "DJ Bravo ,Highest Score: 70\n",
      "RN ten Doeschate ,Highest Score: 70\n",
      "HH Gibbs ,Highest Score: 69\n",
      "KM Jadhav ,Highest Score: 69\n",
      "Vivrant Sharma ,Highest Score: 69\n",
      "EJG Morgan ,Highest Score: 68\n",
      "SN Thakur ,Highest Score: 68\n",
      "AK Markram ,Highest Score: 68\n",
      "Shashank Singh ,Highest Score: 68\n",
      "J Botha ,Highest Score: 67\n",
      "SN Khan ,Highest Score: 67\n",
      "RK Singh ,Highest Score: 67\n",
      "R Powell ,Highest Score: 67\n",
      "Shakib Al Hasan ,Highest Score: 66\n",
      "AR Patel ,Highest Score: 66\n",
      "PJ Cummins ,Highest Score: 66\n",
      "Anuj Rawat ,Highest Score: 66\n",
      "Atharva Taide ,Highest Score: 66\n",
      "AD Mathews ,Highest Score: 65\n",
      "Gurkeerat Singh ,Highest Score: 65\n",
      "E Lewis ,Highest Score: 65\n",
      "Abishek Porel ,Highest Score: 65\n",
      "Harbhajan Singh ,Highest Score: 64\n",
      "S Anirudha ,Highest Score: 64\n",
      "BJ Rohrer ,Highest Score: 64\n",
      "DJ Hooda ,Highest Score: 64\n",
      "PN Mankad ,Highest Score: 64\n",
      "N Wadhera ,Highest Score: 64\n",
      "V Shankar ,Highest Score: 63\n",
      "SM Curran ,Highest Score: 63\n",
      "DJ Mitchell ,Highest Score: 63\n",
      "RA Jadeja ,Highest Score: 62\n",
      "S Sohal ,Highest Score: 62\n",
      "Naman Dhir ,Highest Score: 62\n",
      "SS Tiwary ,Highest Score: 61\n",
      "B Chipli ,Highest Score: 61\n",
      "GJ Bailey ,Highest Score: 61\n",
      "R Ravindra ,Highest Score: 61\n",
      "Ashutosh Sharma ,Highest Score: 61\n",
      "IK Pathan ,Highest Score: 60\n",
      "SA Asnodkar ,Highest Score: 60\n",
      "DB Ravi Teja ,Highest Score: 60\n",
      "DJG Sammy ,Highest Score: 60\n",
      "AP Tare ,Highest Score: 59\n",
      "Shahbaz Ahmed ,Highest Score: 59\n",
      "A Badoni ,Highest Score: 59\n",
      "UBT Chand ,Highest Score: 58\n",
      "M Shahrukh Khan ,Highest Score: 58\n",
      "Arshad Khan ,Highest Score: 58\n",
      "NK Patel ,Highest Score: 57\n",
      "Sikandar Raza ,Highest Score: 57\n",
      "SW Billings ,Highest Score: 56\n",
      "Dhruv Jurel ,Highest Score: 56\n",
      "BB Samantray ,Highest Score: 55\n",
      "S Vidyut ,Highest Score: 54\n",
      "TK Curran ,Highest Score: 54\n",
      "MK Lomror ,Highest Score: 54\n",
      "A Raghuvanshi ,Highest Score: 54\n",
      "Kamran Akmal ,Highest Score: 53\n",
      "AA Jhunjhunwala ,Highest Score: 53\n",
      "R Tewatia ,Highest Score: 53\n",
      "VVS Laxman ,Highest Score: 52\n",
      "SP Goswami ,Highest Score: 52\n",
      "RJ Quiney ,Highest Score: 51\n",
      "CA Pujara ,Highest Score: 51\n",
      "R McLaren ,Highest Score: 51\n",
      "AC Blizzard ,Highest Score: 51\n",
      "PK Garg ,Highest Score: 51\n",
      "Aman Hakim Khan ,Highest Score: 51\n",
      "W Jaffer ,Highest Score: 50\n",
      "MV Boucher ,Highest Score: 50\n",
      "R Ashwin ,Highest Score: 50\n",
      "RE Levi ,Highest Score: 50\n",
      "N Saini ,Highest Score: 50\n",
      "MJ Guptill ,Highest Score: 50\n",
      "PBB Rajapaksa ,Highest Score: 50\n",
      "MC Juneja ,Highest Score: 49\n",
      "JM Sharma ,Highest Score: 49\n",
      "D Brevis ,Highest Score: 49\n",
      "LR Shukla ,Highest Score: 48\n",
      "STR Binny ,Highest Score: 48\n",
      "Lalit Yadav ,Highest Score: 48\n",
      "Misbah-ul-Haq ,Highest Score: 47\n",
      "CA Ingram ,Highest Score: 47\n",
      "DJ Harris ,Highest Score: 47\n",
      "JO Holder ,Highest Score: 47\n",
      "D Wiese ,Highest Score: 47\n",
      "MN Samuels ,Highest Score: 46\n",
      "JP Faulkner ,Highest Score: 46\n",
      "GH Vihari ,Highest Score: 46\n",
      "TH David ,Highest Score: 46\n",
      "AM Nayar ,Highest Score: 45\n",
      "SP Fleming ,Highest Score: 45\n",
      "YV Takawale ,Highest Score: 45\n",
      "FY Fazal ,Highest Score: 45\n",
      "AC Voges ,Highest Score: 45\n",
      "AD Hales ,Highest Score: 45\n",
      "Y Nagar ,Highest Score: 44\n",
      "LJ Wright ,Highest Score: 44\n",
      "K Rabada ,Highest Score: 44\n",
      "DJM Short ,Highest Score: 44\n",
      "CR Brathwaite ,Highest Score: 43\n",
      "A Manohar ,Highest Score: 43\n",
      "MS Gony ,Highest Score: 42\n",
      "M Manhas ,Highest Score: 42\n",
      "PA Reddy ,Highest Score: 42\n",
      "JDP Oram ,Highest Score: 41\n",
      "P Dogra ,Highest Score: 41\n",
      "MD Mishra ,Highest Score: 41\n",
      "Harpreet Singh ,Highest Score: 41\n",
      "MJ Clarke ,Highest Score: 41\n",
      "SD Hope ,Highest Score: 41\n",
      "Anirudh Singh ,Highest Score: 40\n",
      "AL Menaria ,Highest Score: 40\n",
      "NLTC Perera ,Highest Score: 40\n",
      "C Munro ,Highest Score: 40\n",
      "C de Grandhomme ,Highest Score: 40\n",
      "Washington Sundar ,Highest Score: 40\n",
      "AB Agarkar ,Highest Score: 39\n",
      "MF Maharoof ,Highest Score: 39\n",
      "KV Sharma ,Highest Score: 39\n",
      "LA Carseldine ,Highest Score: 39\n",
      "DT Christian ,Highest Score: 39\n",
      "BCJ Cutting ,Highest Score: 39\n",
      "DL Chahar ,Highest Score: 39\n",
      "N Jagadeesan ,Highest Score: 39\n",
      "R Shepherd ,Highest Score: 39\n",
      "K Goel ,Highest Score: 38\n",
      "SD Chitnis ,Highest Score: 38\n",
      "Mohammad Nabi ,Highest Score: 37\n",
      "Abdul Samad ,Highest Score: 37\n",
      "SB Styris ,Highest Score: 36\n",
      "AS Raut ,Highest Score: 36\n",
      "HV Patel ,Highest Score: 36\n",
      "P Negi ,Highest Score: 36\n",
      "A Ashish Reddy ,Highest Score: 36\n",
      "TG Southee ,Highest Score: 36\n",
      "Anmolpreet Singh ,Highest Score: 36\n",
      "MW Short ,Highest Score: 36\n",
      "DB Das ,Highest Score: 35\n",
      "RE van der Merwe ,Highest Score: 35\n",
      "Bipul Sharma ,Highest Score: 35\n",
      "MS Wade ,Highest Score: 35\n",
      "Kuldeep Yadav ,Highest Score: 35\n",
      "Ramandeep Singh ,Highest Score: 35\n",
      "P Kumar ,Highest Score: 34\n",
      "M Kaif ,Highest Score: 34\n",
      "SK Warne ,Highest Score: 34\n",
      "DH Yagnik ,Highest Score: 34\n",
      "J Suchith ,Highest Score: 34\n",
      "SS Prabhudessai ,Highest Score: 34\n",
      "SM Pollock ,Highest Score: 33\n",
      "Shahid Afridi ,Highest Score: 33\n",
      "Iqbal Abdulla ,Highest Score: 33\n",
      "AB McDonald ,Highest Score: 33\n",
      "AB Barath ,Highest Score: 33\n",
      "CM Gautam ,Highest Score: 33\n",
      "Sachin Baby ,Highest Score: 33\n",
      "K Gowtham ,Highest Score: 33\n",
      "JR Philippe ,Highest Score: 33\n",
      "DJ Jacobs ,Highest Score: 32\n",
      "KK Cooper ,Highest Score: 32\n",
      "RR Sarwan ,Highest Score: 31\n",
      "A Mishra ,Highest Score: 31\n",
      "AP Majumdar ,Highest Score: 31\n",
      "DJ Thornely ,Highest Score: 30\n",
      "AP Dole ,Highest Score: 30\n",
      "Ankit Sharma ,Highest Score: 30\n",
      "UT Khawaja ,Highest Score: 30\n",
      "CJ Jordan ,Highest Score: 30\n",
      "Vishnu Vinod ,Highest Score: 30\n",
      "PR Shah ,Highest Score: 29\n",
      "DL Vettori ,Highest Score: 29\n",
      "M Klinger ,Highest Score: 29\n",
      "MA Starc ,Highest Score: 29\n",
      "Harpreet Brar ,Highest Score: 29\n",
      "RT Ponting ,Highest Score: 28\n",
      "DS Kulkarni ,Highest Score: 28\n",
      "RR Powar ,Highest Score: 28\n",
      "IR Jaggi ,Highest Score: 28\n",
      "SE Rutherford ,Highest Score: 28\n",
      "B Akhil ,Highest Score: 27\n",
      "AD Mascarenhas ,Highest Score: 27\n",
      "R Sathish ,Highest Score: 27\n",
      "S Sriram ,Highest Score: 27\n",
      "TR Birt ,Highest Score: 27\n",
      "B Kumar ,Highest Score: 27\n",
      "JC Archer ,Highest Score: 27\n",
      "D Salunkhe ,Highest Score: 26\n",
      "R Vinay Kumar ,Highest Score: 26\n",
      "R Bhatia ,Highest Score: 26\n",
      "RV Gomez ,Highest Score: 26\n",
      "JD Unadkat ,Highest Score: 26\n",
      "KW Richardson ,Highest Score: 26\n",
      "DJ Malan ,Highest Score: 26\n",
      "MG Bracewell ,Highest Score: 26\n",
      "B Lee ,Highest Score: 25\n",
      "WA Mota ,Highest Score: 25\n",
      "R Dhawan ,Highest Score: 25\n",
      "RD Chahar ,Highest Score: 25\n",
      "AJ Tye ,Highest Score: 25\n",
      "GD Phillips ,Highest Score: 25\n",
      "OF Smith ,Highest Score: 25\n",
      "HR Shokeen ,Highest Score: 25\n",
      "SB Dubey ,Highest Score: 25\n",
      "PP Chawla ,Highest Score: 24\n",
      "Shoaib Malik ,Highest Score: 24\n",
      "Umar Gul ,Highest Score: 24\n",
      "A Chopra ,Highest Score: 24\n",
      "A Flintoff ,Highest Score: 24\n",
      "UT Yadav ,Highest Score: 24\n",
      "NM Coulter-Nile ,Highest Score: 24\n",
      "S Gopal ,Highest Score: 24\n",
      "AD Nath ,Highest Score: 24\n",
      "LH Ferguson ,Highest Score: 24\n",
      "Tanush Kotian ,Highest Score: 24\n",
      "Z Khan ,Highest Score: 23\n",
      "M Rawat ,Highest Score: 23\n",
      "LPC Silva ,Highest Score: 23\n",
      "MM Patel ,Highest Score: 23\n",
      "M Morkel ,Highest Score: 23\n",
      "S Narwal ,Highest Score: 23\n",
      "CJ Ferguson ,Highest Score: 23\n",
      "R Rampaul ,Highest Score: 23\n",
      "J Yadav ,Highest Score: 23\n",
      "A Nortje ,Highest Score: 23\n",
      "RV Patel ,Highest Score: 23\n",
      "A Nehra ,Highest Score: 22\n",
      "J Arunkumar ,Highest Score: 22\n",
      "AA Bilakhia ,Highest Score: 22\n",
      "JM Kemp ,Highest Score: 22\n",
      "JDS Neesham ,Highest Score: 22\n",
      "NS Naik ,Highest Score: 22\n",
      "MJ Santner ,Highest Score: 22\n",
      "D Pretorius ,Highest Score: 22\n",
      "M Kartik ,Highest Score: 21\n",
      "Mohammed Shami ,Highest Score: 21\n",
      "MM Sharma ,Highest Score: 21\n",
      "TL Seifert ,Highest Score: 21\n",
      "Sameer Rizvi ,Highest Score: 21\n",
      "WPUJC Vaas ,Highest Score: 20\n",
      "Yashpal Singh ,Highest Score: 20\n",
      "AG Paunikar ,Highest Score: 20\n",
      "Sunny Singh ,Highest Score: 20\n",
      "BR Dunk ,Highest Score: 20\n",
      "MJ McClenaghan ,Highest Score: 20\n",
      "Shivam Mavi ,Highest Score: 20\n",
      "TU Deshpande ,Highest Score: 20\n",
      "DJ Willey ,Highest Score: 20\n",
      "T Kohler-Cadmore ,Highest Score: 20\n",
      "DW Steyn ,Highest Score: 19\n",
      "A Mukund ,Highest Score: 19\n",
      "DR Martyn ,Highest Score: 19\n",
      "KB Arun Karthik ,Highest Score: 19\n",
      "Y Gnaneswara Rao ,Highest Score: 19\n",
      "S Rana ,Highest Score: 19\n",
      "ER Dwivedi ,Highest Score: 19\n",
      "P Ray Barman ,Highest Score: 19\n",
      "Umran Malik ,Highest Score: 19\n",
      "Gulbadin Naib ,Highest Score: 19\n",
      "R Bishnoi ,Highest Score: 18\n",
      "AN Ahmed ,Highest Score: 18\n",
      "BJ Haddin ,Highest Score: 18\n",
      "P Sahu ,Highest Score: 18\n",
      "CR Woakes ,Highest Score: 18\n",
      "M Markande ,Highest Score: 18\n",
      "PWH de Silva ,Highest Score: 18\n",
      "AU Rashid ,Highest Score: 18\n",
      "DS Lehmann ,Highest Score: 17\n",
      "SB Bangar ,Highest Score: 17\n",
      "RJ Harris ,Highest Score: 17\n",
      "SL Malinga ,Highest Score: 17\n",
      "VR Aaron ,Highest Score: 17\n",
      "TA Boult ,Highest Score: 17\n",
      "M Jansen ,Highest Score: 17\n",
      "PVD Chameera ,Highest Score: 17\n",
      "Akash Deep ,Highest Score: 17\n",
      "MD Shanaka ,Highest Score: 17\n",
      "Azmatullah Omarzai ,Highest Score: 17\n",
      "Mohammad Hafeez ,Highest Score: 16\n",
      "S Chanderpaul ,Highest Score: 16\n",
      "AS Yadav ,Highest Score: 16\n",
      "Joginder Sharma ,Highest Score: 16\n",
      "DE Bollinger ,Highest Score: 16\n",
      "B Sumanth ,Highest Score: 16\n",
      "WD Parnell ,Highest Score: 16\n",
      "RJ Peterson ,Highest Score: 16\n",
      "MG Johnson ,Highest Score: 16\n",
      "JJ Bumrah ,Highest Score: 16\n",
      "VH Zol ,Highest Score: 16\n",
      "SP Jackson ,Highest Score: 16\n",
      "AJ Turner ,Highest Score: 16\n",
      "P Dubey ,Highest Score: 16\n",
      "KA Jamieson ,Highest Score: 16\n",
      "AJ Hosein ,Highest Score: 16\n",
      "S Sreesanth ,Highest Score: 15\n",
      "T Taibu ,Highest Score: 15\n",
      "L Balaji ,Highest Score: 15\n",
      "GR Napier ,Highest Score: 15\n",
      "C Madan ,Highest Score: 15\n",
      "NL McCullum ,Highest Score: 15\n",
      "Anureet Singh ,Highest Score: 15\n",
      "Swapnil Singh ,Highest Score: 15\n",
      "A Choudhary ,Highest Score: 15\n",
      "AF Milne ,Highest Score: 15\n",
      "SD Lad ,Highest Score: 15\n",
      "AS Joseph ,Highest Score: 15\n",
      "DR Sams ,Highest Score: 15\n",
      "JA Richardson ,Highest Score: 15\n",
      "B Indrajith ,Highest Score: 15\n",
      "R Sharma ,Highest Score: 14\n",
      "Harmeet Singh ,Highest Score: 14\n",
      "AUK Pathan ,Highest Score: 14\n",
      "JJ van der Wath ,Highest Score: 14\n",
      "S Aravind ,Highest Score: 14\n",
      "MDKJ Perera ,Highest Score: 14\n",
      "R Shukla ,Highest Score: 14\n",
      "SA Abbott ,Highest Score: 14\n",
      "Mohammed Siraj ,Highest Score: 14\n",
      "AT Carey ,Highest Score: 14\n",
      "Yudhvir Singh ,Highest Score: 14\n",
      "L Ronchi ,Highest Score: 13\n",
      "Sohail Tanvir ,Highest Score: 13\n",
      "SB Jakati ,Highest Score: 13\n",
      "J Syed Mohammad ,Highest Score: 13\n",
      "GB Hogg ,Highest Score: 13\n",
      "Imran Tahir ,Highest Score: 13\n",
      "Basil Thampi ,Highest Score: 13\n",
      "Mohsin Khan ,Highest Score: 13\n",
      "AS Roy ,Highest Score: 13\n",
      "YV Dhull ,Highest Score: 13\n",
      "Vijaykumar Vyshak ,Highest Score: 13\n",
      "Arjun Tendulkar ,Highest Score: 13\n",
      "Naveen-ul-Haq ,Highest Score: 13\n",
      "R Sai Kishore ,Highest Score: 13\n",
      "AC Thomas ,Highest Score: 12\n",
      "DAJ Bracewell ,Highest Score: 12\n",
      "BMAJ Mendis ,Highest Score: 12\n",
      "NJ Maddinson ,Highest Score: 12\n",
      "KJ Abbott ,Highest Score: 12\n",
      "KC Cariappa ,Highest Score: 12\n",
      "AR Bawne ,Highest Score: 12\n",
      "Navdeep Saini ,Highest Score: 12\n",
      "Avesh Khan ,Highest Score: 12\n",
      "NT Ellis ,Highest Score: 12\n",
      "HE van der Dussen ,Highest Score: 12\n",
      "DG Nalkande ,Highest Score: 12\n",
      "RR Raje ,Highest Score: 11\n",
      "M Ntini ,Highest Score: 11\n",
      "T Henderson ,Highest Score: 11\n",
      "SW Tait ,Highest Score: 11\n",
      "A Mithun ,Highest Score: 11\n",
      "K Upadhyay ,Highest Score: 11\n",
      "JL Pattinson ,Highest Score: 11\n",
      "Virat Singh ,Highest Score: 11\n",
      "RA Bawa ,Highest Score: 11\n",
      "RP Singh ,Highest Score: 10\n",
      "I Sharma ,Highest Score: 10\n",
      "DNT Zoysa ,Highest Score: 10\n",
      "D du Preez ,Highest Score: 10\n",
      "KAJ Roach ,Highest Score: 10\n",
      "X Thalaivan Sargunam ,Highest Score: 10\n",
      "Parvez Rasool ,Highest Score: 10\n",
      "MA Wood ,Highest Score: 10\n",
      "Mujeeb Ur Rahman ,Highest Score: 10\n",
      "Rasikh Salam ,Highest Score: 10\n",
      "T Banton ,Highest Score: 10\n",
      "CV Varun ,Highest Score: 10\n",
      "I Udana ,Highest Score: 10\n",
      "Arshdeep Singh ,Highest Score: 10\n",
      "JE Root ,Highest Score: 10\n",
      "AA Noffke ,Highest Score: 9\n",
      "SK Trivedi ,Highest Score: 9\n",
      "MA Khote ,Highest Score: 9\n",
      "DT Patil ,Highest Score: 9\n",
      "Sandeep Sharma ,Highest Score: 9\n",
      "M Ashwin ,Highest Score: 9\n",
      "F Behardien ,Highest Score: 9\n",
      "KS Sharma ,Highest Score: 9\n",
      "Sumit Kumar ,Highest Score: 9\n",
      "Saurav Chauhan ,Highest Score: 9\n",
      "L Wood ,Highest Score: 9\n",
      "AA Kulkarni ,Highest Score: 9\n",
      "A Kumble ,Highest Score: 8\n",
      "CK Kapugedera ,Highest Score: 8\n",
      "T Thushara ,Highest Score: 8\n",
      "CK Langeveldt ,Highest Score: 8\n",
      "TD Paine ,Highest Score: 8\n",
      "CJ McKay ,Highest Score: 8\n",
      "AS Rajpoot ,Highest Score: 8\n",
      "YS Chahal ,Highest Score: 8\n",
      "S Badree ,Highest Score: 8\n",
      "Mustafizur Rahman ,Highest Score: 8\n",
      "DR Shorey ,Highest Score: 8\n",
      "P Chopra ,Highest Score: 8\n",
      "KL Nagarkoti ,Highest Score: 8\n",
      "FA Allen ,Highest Score: 8\n",
      "OC McCoy ,Highest Score: 8\n",
      "Sanvir Singh ,Highest Score: 8\n",
      "G Coetzee ,Highest Score: 8\n",
      "T Kohli ,Highest Score: 7\n",
      "TM Srivastava ,Highest Score: 7\n",
      "AB Dinda ,Highest Score: 7\n",
      "AN Ghosh ,Highest Score: 7\n",
      "J Theron ,Highest Score: 7\n",
      "I Malhotra ,Highest Score: 7\n",
      "AA Chavan ,Highest Score: 7\n",
      "SMSM Senanayake ,Highest Score: 7\n",
      "UA Birla ,Highest Score: 7\n",
      "S Kaul ,Highest Score: 7\n",
      "PV Tambe ,Highest Score: 7\n",
      "A Zampa ,Highest Score: 7\n",
      "Ankit Soni ,Highest Score: 7\n",
      "RK Bhui ,Highest Score: 7\n",
      "KMA Paul ,Highest Score: 7\n",
      "Kartik Tyagi ,Highest Score: 7\n",
      "C Sakariya ,Highest Score: 7\n",
      "JR Hazlewood ,Highest Score: 7\n",
      "M Theekshana ,Highest Score: 7\n",
      "Noor Ahmad ,Highest Score: 7\n",
      "D Ferreira ,Highest Score: 7\n",
      "V Viyaskanth ,Highest Score: 7\n",
      "VY Mahesh ,Highest Score: 6\n",
      "PJ Sangwan ,Highest Score: 6\n",
      "M Muralitharan ,Highest Score: 6\n",
      "SM Harwood ,Highest Score: 6\n",
      "SS Shaikh ,Highest Score: 6\n",
      "VS Malik ,Highest Score: 6\n",
      "S Nadeem ,Highest Score: 6\n",
      "BA Bhatt ,Highest Score: 6\n",
      "PSP Handscomb ,Highest Score: 6\n",
      "TS Mills ,Highest Score: 6\n",
      "DM Bravo ,Highest Score: 6\n",
      "JPR Scantlebury-Searles ,Highest Score: 6\n",
      "IS Sodhi ,Highest Score: 6\n",
      "Ravi Bishnoi ,Highest Score: 6\n",
      "K Kartikeya ,Highest Score: 6\n",
      "Mukesh Kumar ,Highest Score: 6\n",
      "AG Murtaza ,Highest Score: 5\n",
      "KMDN Kulasekara ,Highest Score: 5\n",
      "Karanveer Singh ,Highest Score: 5\n",
      "B Stanlake ,Highest Score: 5\n",
      "SH Johnson ,Highest Score: 5\n",
      "Arshad Khan (2) ,Highest Score: 5\n",
      "Pankaj Singh ,Highest Score: 4\n",
      "VRV Singh ,Highest Score: 4\n",
      "GD McGrath ,Highest Score: 4\n",
      "Jaskaran Singh ,Highest Score: 4\n",
      "A Uniyal ,Highest Score: 4\n",
      "RS Sodhi ,Highest Score: 4\n",
      "P Awana ,Highest Score: 4\n",
      "A Chandila ,Highest Score: 4\n",
      "B Laughlin ,Highest Score: 4\n",
      "Shivam Sharma ,Highest Score: 4\n",
      "A Dananjaya ,Highest Score: 4\n",
      "M Prasidh Krishna ,Highest Score: 4\n",
      "Mukesh Choudhary ,Highest Score: 4\n",
      "A Tomar ,Highest Score: 4\n",
      "Liton Das ,Highest Score: 4\n",
      "Akash Madhwal ,Highest Score: 4\n",
      "SB Joshi ,Highest Score: 3\n",
      "D Kalyankrishna ,Highest Score: 3\n",
      "Mohammad Asif ,Highest Score: 3\n",
      "PP Ojha ,Highest Score: 3\n",
      "Younis Khan ,Highest Score: 3\n",
      "Kamran Khan ,Highest Score: 3\n",
      "FH Edwards ,Highest Score: 3\n",
      "S Tyagi ,Highest Score: 3\n",
      "DP Nannes ,Highest Score: 3\n",
      "SJ Srivastava ,Highest Score: 3\n",
      "R Ninan ,Highest Score: 3\n",
      "BB Sran ,Highest Score: 3\n",
      "T Natarajan ,Highest Score: 3\n",
      "Simarjeet Singh ,Highest Score: 3\n",
      "JP Behrendorff ,Highest Score: 3\n",
      "RJW Topley ,Highest Score: 3\n",
      "Shoaib Akhtar ,Highest Score: 2\n",
      "H Das ,Highest Score: 2\n",
      "CRD Fernando ,Highest Score: 2\n",
      "VS Yeligati ,Highest Score: 2\n",
      "BAW Mendis ,Highest Score: 2\n",
      "Mashrafe Mortaza ,Highest Score: 2\n",
      "Mohammad Ashraful ,Highest Score: 2\n",
      "RS Gavaskar ,Highest Score: 2\n",
      "SB Wagh ,Highest Score: 2\n",
      "S Randiv ,Highest Score: 2\n",
      "JE Taylor ,Highest Score: 2\n",
      "RG More ,Highest Score: 2\n",
      "GC Viljoen ,Highest Score: 2\n",
      "GHS Garton ,Highest Score: 2\n",
      "T Shamsi ,Highest Score: 2\n",
      "VG Arora ,Highest Score: 2\n",
      "Harshit Rana ,Highest Score: 2\n",
      "Fazalhaq Farooqi ,Highest Score: 2\n",
      "Kumar Kushagra ,Highest Score: 2\n",
      "BR Sharath ,Highest Score: 2\n",
      "RJ Gleeson ,Highest Score: 2\n",
      "A Kamboj ,Highest Score: 2\n",
      "Shivam Singh ,Highest Score: 2\n",
      "PM Sarvesh Kumar ,Highest Score: 1\n",
      "DP Vijaykumar ,Highest Score: 1\n",
      "Shoaib Ahmed ,Highest Score: 1\n",
      "KP Appanna ,Highest Score: 1\n",
      "A Singh ,Highest Score: 1\n",
      "SE Bond ,Highest Score: 1\n",
      "NJ Rimmington ,Highest Score: 1\n",
      "P Parameswaran ,Highest Score: 1\n",
      "BE Hendricks ,Highest Score: 1\n",
      "M de Lange ,Highest Score: 1\n",
      "DJ Muthuswami ,Highest Score: 1\n",
      "LE Plunkett ,Highest Score: 1\n",
      "HF Gurney ,Highest Score: 1\n",
      "KK Ahmed ,Highest Score: 1\n",
      "Mohit Rathee ,Highest Score: 1\n",
      "Abdul Basith ,Highest Score: 1\n",
      "SZ Mulani ,Highest Score: 1\n",
      "KA Maharaj ,Highest Score: 1\n",
      "LB Williams ,Highest Score: 1\n",
      "MJ Suthar ,Highest Score: 1\n",
      "U Kaul ,Highest Score: 0\n",
      "Abdur Razzak ,Highest Score: 0\n",
      "C Nanda ,Highest Score: 0\n",
      "YA Abdulla ,Highest Score: 0\n",
      "S Ladda ,Highest Score: 0\n",
      "L Ablish ,Highest Score: 0\n",
      "ND Doshi ,Highest Score: 0\n",
      "RR Bhatkal ,Highest Score: 0\n",
      "V Pratap Singh ,Highest Score: 0\n",
      "Sunny Gupta ,Highest Score: 0\n",
      "IC Pandey ,Highest Score: 0\n",
      "S Kaushik ,Highest Score: 0\n",
      "S Lamichhane ,Highest Score: 0\n",
      "JL Denly ,Highest Score: 0\n",
      "Y Prithvi Raj ,Highest Score: 0\n",
      "SS Cottrell ,Highest Score: 0\n",
      "K Yadav ,Highest Score: 0\n",
      "KR Sen ,Highest Score: 0\n",
      "Yash Dayal ,Highest Score: 0\n",
      "RP Meredith ,Highest Score: 0\n",
      "R Sanjay Yadav ,Highest Score: 0\n",
      "KM Asif ,Highest Score: 0\n",
      "Mayank Dagar ,Highest Score: 0\n"
     ]
    }
   ],
   "source": [
    "batsmen_list = d['batter'].unique()\n",
    "batsmen_high_scores = []\n",
    "\n",
    "for batsman in batsmen_list:\n",
    "    temp_df = d[d['batter'] == batsman]\n",
    "\n",
    "    runs_per_match = temp_df.groupby('match_id')['batsman_runs'].sum()\n",
    "    runs_per_match_sorted = runs_per_match.sort_values(ascending=False)\n",
    "    highest_score = runs_per_match_sorted.iloc[0]\n",
    "    batsmen_high_scores.append((batsman, highest_score))\n",
    "    \n",
    "sorted_batsmen_high_scores = sorted(batsmen_high_scores, key=lambda x: x[1], reverse=True)\n",
    "\n",
    "for batsman, highest_score in sorted_batsmen_high_scores:\n",
    "    print(f\"{batsman} ,Highest Score: {highest_score}\")"
   ]
  },
  {
   "cell_type": "markdown",
   "id": "2e92dc7a",
   "metadata": {},
   "source": [
    "# 41. Centuries scored by every batsman\n"
   ]
  },
  {
   "cell_type": "code",
   "execution_count": 43,
   "id": "423df07f",
   "metadata": {},
   "outputs": [
    {
     "data": {
      "text/plain": [
       "Batsman\n",
       "V Kohli             8\n",
       "JC Buttler          7\n",
       "CH Gayle            6\n",
       "SR Watson           4\n",
       "KL Rahul            4\n",
       "DA Warner           4\n",
       "Shubman Gill        4\n",
       "AB de Villiers      3\n",
       "SV Samson           3\n",
       "HM Amla             2\n",
       "RG Sharma           2\n",
       "RD Gaikwad          2\n",
       "Q de Kock           2\n",
       "M Vijay             2\n",
       "JM Bairstow         2\n",
       "S Dhawan            2\n",
       "SA Yadav            2\n",
       "AC Gilchrist        2\n",
       "AM Rahane           2\n",
       "BB McCullum         2\n",
       "BA Stokes           2\n",
       "YBK Jaiswal         2\n",
       "V Sehwag            2\n",
       "TM Head             1\n",
       "SP Narine           1\n",
       "SE Marsh            1\n",
       "SK Raina            1\n",
       "SPD Smith           1\n",
       "WP Saha             1\n",
       "SR Tendulkar        1\n",
       "ST Jayasuriya       1\n",
       "WG Jacks            1\n",
       "VR Iyer             1\n",
       "A Symonds           1\n",
       "MP Stoinis          1\n",
       "RR Pant             1\n",
       "RM Patidar          1\n",
       "AT Rayudu           1\n",
       "B Sai Sudharsan     1\n",
       "C Green             1\n",
       "D Padikkal          1\n",
       "DA Miller           1\n",
       "DPMD Jayawardene    1\n",
       "H Klaasen           1\n",
       "HC Brook            1\n",
       "KP Pietersen        1\n",
       "LMP Simmons         1\n",
       "MA Agarwal          1\n",
       "MEK Hussey          1\n",
       "MK Pandey           1\n",
       "P Simran Singh      1\n",
       "PC Valthaty         1\n",
       "YK Pathan           1\n",
       "Name: Total_Runs, dtype: int64"
      ]
     },
     "execution_count": 43,
     "metadata": {},
     "output_type": "execute_result"
    }
   ],
   "source": [
    "unique_batsmen = d['batter'].unique()\n",
    "\n",
    "batsman_runs_df = pd.DataFrame(columns=['Batsman', 'Match_ID', 'Total_Runs'])\n",
    "\n",
    "for batsman_name in unique_batsmen:\n",
    "    temp_df = d[d['batter'] == batsman_name]\n",
    "    batsman_runs = temp_df.groupby('match_id')['batsman_runs'].sum().reset_index()\n",
    "    batsman_runs.columns = ['Match_ID', 'Total_Runs']\n",
    "    batsman_runs['Batsman'] = batsman_name\n",
    "    batsman_runs = batsman_runs[batsman_runs['Total_Runs'] >= 100]\n",
    "    batsman_runs_df = pd.concat([batsman_runs_df, batsman_runs])\n",
    "    \n",
    "batsman_runs_df.reset_index(drop=True, inplace=True)\n",
    "batsman_runs_df.groupby('Batsman')['Total_Runs'].count().sort_values(ascending=False)"
   ]
  },
  {
   "cell_type": "markdown",
   "id": "15bf04da",
   "metadata": {},
   "source": [
    "#  42. Batsman with number of Ducks (out on the score of 0)"
   ]
  },
  {
   "cell_type": "code",
   "execution_count": 44,
   "id": "cdb6b69f",
   "metadata": {},
   "outputs": [
    {
     "data": {
      "text/plain": [
       "Batsman\n",
       "KD Karthik       19\n",
       "GJ Maxwell       18\n",
       "SP Narine        17\n",
       "Rashid Khan      16\n",
       "RG Sharma        16\n",
       "                 ..\n",
       "I Udana           1\n",
       "R Shepherd        1\n",
       "R Tewatia         1\n",
       "Harpreet Brar     1\n",
       "M Theekshana      1\n",
       "Name: Total_Runs, Length: 450, dtype: int64"
      ]
     },
     "execution_count": 44,
     "metadata": {},
     "output_type": "execute_result"
    }
   ],
   "source": [
    "unique_batsmen = d['batter'].unique()\n",
    "batsman_runs_df = pd.DataFrame(columns=['Batsman', 'Match_ID', 'Total_Runs'])\n",
    "\n",
    "for batsman_name in unique_batsmen:\n",
    "    temp_df = d[d['batter'] == batsman_name]\n",
    "    \n",
    "    batsman_runs = temp_df.groupby('match_id')['batsman_runs'].sum().reset_index()\n",
    "    batsman_runs.columns = ['Match_ID', 'Total_Runs']\n",
    "    batsman_runs['Batsman'] = batsman_name\n",
    "    batsman_runs = batsman_runs[batsman_runs['Total_Runs'] == 0]\n",
    "    batsman_runs_df = pd.concat([batsman_runs_df, batsman_runs])\n",
    "    \n",
    "batsman_runs_df.reset_index(drop=True, inplace=True)\n",
    "batsman_runs_df.groupby('Batsman')['Total_Runs'].count().sort_values(ascending=False)"
   ]
  },
  {
   "cell_type": "markdown",
   "id": "a0fc9711",
   "metadata": {},
   "source": [
    "# 43. To determine which team has won the most IPL championships:"
   ]
  },
  {
   "cell_type": "code",
   "execution_count": 45,
   "id": "ad9e59b1",
   "metadata": {},
   "outputs": [
    {
     "data": {
      "image/png": "[encoded data removed]",
      "text/plain": [
       "<Figure size 1500x800 with 1 Axes>"
      ]
     },
     "metadata": {},
     "output_type": "display_data"
    }
   ],
   "source": [
    "f = ipl[ipl['match_type'] == 'Final']\n",
    "fw = f['winner'].value_counts()\n",
    "\n",
    "plt.figure(figsize=(15, 8))\n",
    "sns.barplot(x=fw.index, y=fw.values)\n",
    "plt.xticks(rotation=90)\n",
    "plt.xlabel('Teams')\n",
    "plt.ylabel('Number of Final Wins')\n",
    "plt.title('Number of Final Wins by Team')\n",
    "plt.show()"
   ]
  },
  {
   "cell_type": "markdown",
   "id": "43c48393",
   "metadata": {},
   "source": [
    "# 44. Which team has played the maximum number of IPL finals"
   ]
  },
  {
   "cell_type": "code",
   "execution_count": 46,
   "id": "4534f767",
   "metadata": {},
   "outputs": [
    {
     "data": {
      "text/plain": [
       "Chennai Super Kings    10\n",
       "dtype: int64"
      ]
     },
     "execution_count": 46,
     "metadata": {},
     "output_type": "execute_result"
    }
   ],
   "source": [
    "import warnings\n",
    "warnings.filterwarnings('ignore')\n",
    "\n",
    "final_teams = ipl[ipl['match_type'] == 'Final']\n",
    "final_teams['team1'].append(final_teams['team2']).value_counts().head(1)"
   ]
  },
  {
   "cell_type": "markdown",
   "id": "a5eadd6d",
   "metadata": {},
   "source": [
    "# 45. How many teams have played in the IPL"
   ]
  },
  {
   "cell_type": "code",
   "execution_count": 47,
   "id": "c1495201",
   "metadata": {
    "scrolled": true
   },
   "outputs": [
    {
     "name": "stdout",
     "output_type": "stream",
     "text": [
      "['Royal Challengers Bangalore' 'Kings XI Punjab' 'Delhi Daredevils'\n",
      " 'Mumbai Indians' 'Kolkata Knight Riders' 'Rajasthan Royals'\n",
      " 'Deccan Chargers' 'Chennai Super Kings' 'Kochi Tuskers Kerala'\n",
      " 'Pune Warriors' 'Sunrisers Hyderabad' 'Gujarat Lions'\n",
      " 'Rising Pune Supergiants' 'Rising Pune Supergiant' 'Delhi Capitals'\n",
      " 'Punjab Kings' 'Lucknow Super Giants' 'Gujarat Titans'\n",
      " 'Royal Challengers Bengaluru']\n"
     ]
    },
    {
     "data": {
      "text/plain": [
       "19"
      ]
     },
     "execution_count": 47,
     "metadata": {},
     "output_type": "execute_result"
    }
   ],
   "source": [
    "unique_teams = pd.concat([ipl['team1'], ipl['team2']]).unique()\n",
    "print(unique_teams)\n",
    "len(unique_teams)"
   ]
  },
  {
   "cell_type": "markdown",
   "id": "6241e4a8",
   "metadata": {},
   "source": [
    "# 46. Top 10 batsman with highest strike rate in ipl till 2024."
   ]
  },
  {
   "cell_type": "code",
   "execution_count": 48,
   "id": "4a490f1e",
   "metadata": {},
   "outputs": [
    {
     "data": {
      "image/png": "[encoded data removed]",
      "text/plain": [
       "<Figure size 1400x700 with 1 Axes>"
      ]
     },
     "metadata": {},
     "output_type": "display_data"
    }
   ],
   "source": [
    "runs_scored = d.groupby('batter')['batsman_runs'].sum().reset_index()\n",
    "balls_faced = d.groupby('batter').size().reset_index(name='balls_faced')\n",
    "\n",
    "batsman_stats = runs_scored.merge(balls_faced, on='batter')\n",
    "\n",
    "# Calculate strike rate (runs scored per 100 balls faced)\n",
    "batsman_stats['strike_rate'] = (batsman_stats['batsman_runs'] / batsman_stats['balls_faced']) * 100\n",
    "\n",
    "top_batsmen = batsman_stats.sort_values(by='strike_rate', ascending=False).head(10)\n",
    "\n",
    "plt.figure(figsize=(14, 7))\n",
    "sns.barplot(x='strike_rate', y='batter', data=top_batsmen)\n",
    "\n",
    "for index, value in enumerate(top_batsmen['strike_rate']):\n",
    "    plt.text(value, index, f'{value:.2f}', color='black', ha=\"left\", va=\"center\")\n",
    "\n",
    "plt.title('Top 10 Batsmen by Strike Rate')\n",
    "plt.xlabel('Strike Rate (Runs per 100 Balls)')\n",
    "plt.ylabel('Batsman')\n",
    "plt.show()"
   ]
  },
  {
   "cell_type": "markdown",
   "id": "db5f74f9",
   "metadata": {},
   "source": [
    "# 47. Plot a Grid in matplotlib to show each bowl where a batsman hit six."
   ]
  },
  {
   "cell_type": "code",
   "execution_count": 49,
   "id": "b4c31383",
   "metadata": {},
   "outputs": [
    {
     "data": {
      "text/plain": [
       "<matplotlib.colorbar.Colorbar at 0x22ed6e3c340>"
      ]
     },
     "execution_count": 49,
     "metadata": {},
     "output_type": "execute_result"
    },
    {
     "data": {
      "image/png": "[encoded data removed]",
      "text/plain": [
       "<Figure size 1000x1500 with 2 Axes>"
      ]
     },
     "metadata": {},
     "output_type": "display_data"
    }
   ],
   "source": [
    "temp_df = d[(d['ball'].isin([1,2,3,4,5,6])) & (d['batsman_runs']==6)]\n",
    "grid = temp_df.pivot_table(index='over',columns='ball',values='batsman_runs',aggfunc='count')\n",
    "\n",
    "plt.figure(figsize=(10,15))\n",
    "plt.imshow(grid)\n",
    "plt.yticks(d['over'].unique(), list(range(1,21)))\n",
    "plt.xticks(np.arange(0,6), list(range(1,7)))\n",
    "plt.colorbar()"
   ]
  },
  {
   "cell_type": "markdown",
   "id": "b99aad4c",
   "metadata": {},
   "source": [
    "# 48. Find winning percentage of every team in ipl."
   ]
  },
  {
   "cell_type": "code",
   "execution_count": 50,
   "id": "4c0fdb79",
   "metadata": {},
   "outputs": [
    {
     "data": {
      "text/plain": [
       "Rising Pune Supergiant         62.500000\n",
       "Gujarat Titans                 62.222222\n",
       "Chennai Super Kings            57.983193\n",
       "Mumbai Indians                 55.172414\n",
       "Lucknow Super Giants           54.545455\n",
       "Delhi Capitals                 52.747253\n",
       "Kolkata Knight Riders          52.191235\n",
       "Rajasthan Royals               50.678733\n",
       "Sunrisers Hyderabad            48.351648\n",
       "Royal Challengers Bangalore    48.333333\n",
       "Royal Challengers Bengaluru    46.666667\n",
       "Kings XI Punjab                46.315789\n",
       "Gujarat Lions                  43.333333\n",
       "Kochi Tuskers Kerala           42.857143\n",
       "Punjab Kings                   42.857143\n",
       "Delhi Daredevils               41.614907\n",
       "Deccan Chargers                38.666667\n",
       "Rising Pune Supergiants        35.714286\n",
       "Pune Warriors                  26.086957\n",
       "dtype: float64"
      ]
     },
     "execution_count": 50,
     "metadata": {},
     "output_type": "execute_result"
    }
   ],
   "source": [
    "matches = (ipl['team1'].value_counts() + ipl['team2'].value_counts()).sort_values(ascending=False)\n",
    "winner = ipl['winner'].value_counts()\n",
    "\n",
    "win_percentage = (winner/matches)*100\n",
    "win_percentage.sort_values(ascending=False)"
   ]
  },
  {
   "cell_type": "markdown",
   "id": "cc0d6969",
   "metadata": {},
   "source": [
    "# 49.Plot a seaborn grid that show runs scored in each over for match id."
   ]
  },
  {
   "cell_type": "code",
   "execution_count": 51,
   "id": "6a6a9301",
   "metadata": {},
   "outputs": [
    {
     "data": {
      "image/png": "[encoded data removed]",
      "text/plain": [
       "<Figure size 1400x700 with 1 Axes>"
      ]
     },
     "metadata": {},
     "output_type": "display_data"
    }
   ],
   "source": [
    "match_id = 335982  # Replace with your match ID\n",
    "\n",
    "match_data = d[d['match_id'] == match_id]\n",
    "match_data['over'] = match_data['over'] + 1\n",
    "\n",
    "runs_per_over = match_data.groupby('over')['total_runs'].sum().reset_index()\n",
    "\n",
    "all_overs = pd.DataFrame({'over': range(1, 21)})\n",
    "runs_per_over = all_overs.merge(runs_per_over, on='over', how='left').fillna(0)\n",
    "\n",
    "plt.figure(figsize=(14, 7))\n",
    "sns.lineplot(x='over', y='total_runs', data=runs_per_over, marker='o')\n",
    "plt.title(f'Runs Scored in Each Over for Match ID {match_id}')\n",
    "plt.xlabel('Over')\n",
    "plt.ylabel('Total Runs')\n",
    "plt.xticks(range(1, 21))\n",
    "max_runs = int(runs_per_over['total_runs'].max())\n",
    "plt.yticks(range(0, max_runs + 1, 1))\n",
    "plt.grid(True)\n",
    "plt.show()"
   ]
  },
  {
   "cell_type": "markdown",
   "id": "ab02a405",
   "metadata": {},
   "source": [
    "# 50. Team1 VS Team2"
   ]
  },
  {
   "cell_type": "code",
   "execution_count": 54,
   "id": "678eaa00",
   "metadata": {},
   "outputs": [
    {
     "name": "stdout",
     "output_type": "stream",
     "text": [
      "Enter Team 1: Chennai Super Kings\n",
      "Enter Team 2: Mumbai Indians\n",
      "Matches Played:  37\n"
     ]
    },
    {
     "data": {
      "text/plain": [
       "'Chennai Super Kings : 17 Vs Mumbai Indians : 20'"
      ]
     },
     "execution_count": 54,
     "metadata": {},
     "output_type": "execute_result"
    }
   ],
   "source": [
    "import warnings\n",
    "warnings.filterwarnings('ignore')\n",
    "def h2h(t1, t2):\n",
    "    mask = ipl[(ipl['team1'] == t1) & (ipl['team2'] == t2) | (ipl['team1'] == t2) & (ipl['team2'] == t1)]\n",
    "    w1 = mask[ipl['winner'] == t1].shape[0]\n",
    "    w2 = mask[ipl['winner'] == t2].shape[0]\n",
    "    print(\"Matches Played: \", mask.shape[0])\n",
    "    return \"{} : {} Vs {} : {}\".format(t1,w1,t2,w2) \n",
    "\n",
    "t1 = input(\"Enter Team 1: \")\n",
    "t2 = input(\"Enter Team 2: \")\n",
    "h2h(t1,t2)"
   ]
  },
  {
   "cell_type": "code",
   "execution_count": null,
   "id": "1d4468a0",
   "metadata": {},
   "outputs": [],
   "source": []
  }
 ],
 "metadata": {
  "kernelspec": {
   "display_name": "Python 3 (ipykernel)",
   "language": "python",
   "name": "python3"
  },
  "language_info": {
   "codemirror_mode": {
    "name": "ipython",
    "version": 3
   },
   "file_extension": ".py",
   "mimetype": "text/x-python",
   "name": "python",
   "nbconvert_exporter": "python",
   "pygments_lexer": "ipython3",
   "version": "3.10.6"
  }
 },
 "nbformat": 4,
 "nbformat_minor": 5
}
